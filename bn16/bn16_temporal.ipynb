{
 "cells": [
  {
   "cell_type": "markdown",
   "metadata": {
    "colab_type": "text",
    "id": "4RaNzg2RIBQW"
   },
   "source": [
    "# BN16\n",
    "\n",
    "Playground for the bn16 dataset, different temporal encoders."
   ]
  },
  {
   "cell_type": "markdown",
   "metadata": {
    "colab_type": "text",
    "id": "BopKXkQNk6sA"
   },
   "source": [
    "## Imports"
   ]
  },
  {
   "cell_type": "code",
   "execution_count": 1,
   "metadata": {
    "colab": {
     "base_uri": "https://localhost:8080/",
     "height": 202
    },
    "colab_type": "code",
    "id": "Jb-Ecdr_XtO5",
    "outputId": "938762dd-a27a-465a-efed-b14e4794371c"
   },
   "outputs": [],
   "source": [
    "#!TMPDIR=../../tmp pip install torch==1.7.* torch-summary numpy pandas matplotlib sparse ipywidgets"
   ]
  },
  {
   "cell_type": "code",
   "execution_count": 2,
   "metadata": {
    "colab": {},
    "colab_type": "code",
    "id": "zNYQvuF-Gpd9"
   },
   "outputs": [],
   "source": [
    "import torch\n",
    "import torch.nn as nn\n",
    "import torch.nn.functional as F\n",
    "import torch.optim as optim\n",
    "\n",
    "from torchsummary import summary\n",
    "import sparse\n",
    "from torch.utils.data import Dataset, DataLoader, random_split\n",
    "from torch.cuda.amp import autocast\n",
    "\n",
    "import numpy as np\n",
    "import pandas as pd\n",
    "import matplotlib.pyplot as plt\n",
    "import os\n",
    "from timeit import default_timer as timer\n",
    "import datetime\n",
    "import glob\n",
    "\n",
    "from ipywidgets import interact, interactive\n",
    "import ipywidgets\n",
    "\n",
    "import gc"
   ]
  },
  {
   "cell_type": "markdown",
   "metadata": {
    "colab_type": "text",
    "id": "SJA4BUyknSxx"
   },
   "source": [
    "## Config"
   ]
  },
  {
   "cell_type": "code",
   "execution_count": 3,
   "metadata": {
    "colab": {
     "base_uri": "https://localhost:8080/",
     "height": 35
    },
    "colab_type": "code",
    "id": "i9UsNk_ZnV3k",
    "outputId": "6ef67640-7d84-423f-f860-baf457b5f553"
   },
   "outputs": [
    {
     "name": "stdout",
     "output_type": "stream",
     "text": [
      "cuda\n"
     ]
    }
   ],
   "source": [
    "DEVICE = torch.device('cuda') if torch.cuda.is_available() else torch.device('cpu')\n",
    "# DEVICE = torch.device('cuda:1') if torch.cuda.is_available() else torch.device('cpu')\n",
    "\n",
    "print(DEVICE)\n",
    "RND_SEED = 1\n",
    "BATCH_SIZE = 8\n",
    "N_STEPS = 12\n",
    "N_INDIVIDUALS = 2443\n",
    "\n",
    "torch.random.manual_seed(RND_SEED)\n",
    "torch.cuda.manual_seed(RND_SEED)\n",
    "\n",
    "pd.options.display.max_rows = 20\n",
    "pd.options.display.min_rows = None\n",
    "pd.options.display.width = 800\n",
    "np.set_printoptions(edgeitems=5)\n",
    "np.core.arrayprint._line_width = 300"
   ]
  },
  {
   "cell_type": "markdown",
   "metadata": {
    "colab_type": "text",
    "id": "u3XLCnjnk8fP"
   },
   "source": [
    "# Data\n",
    "\n"
   ]
  },
  {
   "cell_type": "markdown",
   "metadata": {},
   "source": [
    "The data has dimensions $I \\times I \\times D \\times T$, with $I \\times I$ being the individuals interactions matrix, $D$ being the day of observation and $T$ being the time of the snapshot (48 times half an hour). The actual dimensions are $2443 \\times 2443 \\times 56 \\times 48$.\n",
    "\n",
    "That means that we have sequences of length $56 \\cdot 48 = 2688$ (in time). The life span of the individuals depends on their tasks and individual factors."
   ]
  },
  {
   "cell_type": "markdown",
   "metadata": {
    "colab_type": "text",
    "id": "TyYOUNSJvNWN"
   },
   "source": [
    "## File Chunking\n",
    "\n",
    "Transform into daily chunks with dimensions: time x I x I where time is 48x half an hour and I is the individual."
   ]
  },
  {
   "cell_type": "raw",
   "metadata": {
    "colab": {
     "base_uri": "https://localhost:8080/",
     "height": 67,
     "referenced_widgets": [
      "f7c2e08c2fdd41d1acc7ad877708b5f7",
      "cfe9a8d890474b61887f2ecb2997dccd",
      "86c07288905449cbb1240186b334eef5",
      "b765884f57ee47efb8d5bc1a3b387faa",
      "0156e8d0482540eca99e27edc2bdb261",
      "3b80aa0abeba41d7891f8f6597058091",
      "958dfc4dc9314ae9b63f5a40aa1d0abf",
      "589fa440f5934454b099db6e0aa8c850"
     ]
    },
    "colab_type": "code",
    "id": "Ybgc-OIDX77v",
    "outputId": "3ad65298-431f-4814-eaf9-583f04586311"
   },
   "source": [
    "data = sparse.load_npz('bn16_intraday.npz')"
   ]
  },
  {
   "cell_type": "raw",
   "metadata": {
    "colab": {
     "base_uri": "https://localhost:8080/",
     "height": 35
    },
    "colab_type": "code",
    "id": "Y_T3dOXgnbMq",
    "outputId": "de2a166d-ce15-4831-8bd1-2488ffcd639f"
   },
   "source": [
    "# split into days\n",
    "for i in range(data.shape[2]):\n",
    "    d = data[:,:,i].transpose((2,0,1)) # to time x N x N\n",
    "    sparse.save_npz('daily/{}.npz'.format(i), d)"
   ]
  },
  {
   "cell_type": "raw",
   "metadata": {},
   "source": [
    "# free up ram\n",
    "del data\n",
    "import gc\n",
    "gc.collect()"
   ]
  },
  {
   "cell_type": "raw",
   "metadata": {},
   "source": [
    "data = sparse.load_npz('bn16_intraday.npz')\n",
    "# split into individuals\n",
    "for i in range(data.shape[0]):\n",
    "    d = data[i].transpose((0, 2, 1)).reshape((data.shape[0], data.shape[2] * data.shape[3])).transpose() # 2443x56x48 => 2688x2443\n",
    "    sparse.save_npz('individuals/{}.npz'.format(i), d)\n",
    "del data\n",
    "import gc\n",
    "gc.collect()"
   ]
  },
  {
   "cell_type": "markdown",
   "metadata": {},
   "source": [
    "## Additional Data"
   ]
  },
  {
   "cell_type": "markdown",
   "metadata": {},
   "source": [
    "### Aliveness"
   ]
  },
  {
   "cell_type": "code",
   "execution_count": 4,
   "metadata": {},
   "outputs": [],
   "source": [
    "observation_start_date = datetime.datetime(2016, 7, 23, 0, 0, 0, 0)\n",
    "hatching_start_date = datetime.datetime(2016, 7, 19, 0, 0, 0, 0)"
   ]
  },
  {
   "cell_type": "code",
   "execution_count": 5,
   "metadata": {},
   "outputs": [],
   "source": [
    "indices_data = pd.read_csv('indices_bn16.csv').sort_values(by='bee_id')\n",
    "alive_data = pd.read_csv('alive_bn16.csv').sort_values(by='bee_id').reset_index(drop=True) # required or the data will be messed up"
   ]
  },
  {
   "cell_type": "code",
   "execution_count": 6,
   "metadata": {},
   "outputs": [
    {
     "data": {
      "text/html": [
       "<div>\n",
       "<style scoped>\n",
       "    .dataframe tbody tr th:only-of-type {\n",
       "        vertical-align: middle;\n",
       "    }\n",
       "\n",
       "    .dataframe tbody tr th {\n",
       "        vertical-align: top;\n",
       "    }\n",
       "\n",
       "    .dataframe thead th {\n",
       "        text-align: right;\n",
       "    }\n",
       "</style>\n",
       "<table border=\"1\" class=\"dataframe\">\n",
       "  <thead>\n",
       "    <tr style=\"text-align: right;\">\n",
       "      <th></th>\n",
       "      <th>bee_id</th>\n",
       "      <th>date_emerged</th>\n",
       "      <th>days_alive</th>\n",
       "      <th>interaction_matrix_idx</th>\n",
       "      <th>born_in_step</th>\n",
       "      <th>dead_by_step</th>\n",
       "    </tr>\n",
       "  </thead>\n",
       "  <tbody>\n",
       "    <tr>\n",
       "      <th>0</th>\n",
       "      <td>9</td>\n",
       "      <td>2016-07-19</td>\n",
       "      <td>5</td>\n",
       "      <td>0</td>\n",
       "      <td>-192</td>\n",
       "      <td>48</td>\n",
       "    </tr>\n",
       "    <tr>\n",
       "      <th>1</th>\n",
       "      <td>10</td>\n",
       "      <td>2016-07-19</td>\n",
       "      <td>16</td>\n",
       "      <td>1</td>\n",
       "      <td>-192</td>\n",
       "      <td>576</td>\n",
       "    </tr>\n",
       "    <tr>\n",
       "      <th>2</th>\n",
       "      <td>17</td>\n",
       "      <td>2016-07-19</td>\n",
       "      <td>4</td>\n",
       "      <td>2</td>\n",
       "      <td>-192</td>\n",
       "      <td>0</td>\n",
       "    </tr>\n",
       "    <tr>\n",
       "      <th>3</th>\n",
       "      <td>21</td>\n",
       "      <td>2016-07-19</td>\n",
       "      <td>35</td>\n",
       "      <td>3</td>\n",
       "      <td>-192</td>\n",
       "      <td>1488</td>\n",
       "    </tr>\n",
       "    <tr>\n",
       "      <th>4</th>\n",
       "      <td>22</td>\n",
       "      <td>2016-07-19</td>\n",
       "      <td>19</td>\n",
       "      <td>4</td>\n",
       "      <td>-192</td>\n",
       "      <td>720</td>\n",
       "    </tr>\n",
       "    <tr>\n",
       "      <th>5</th>\n",
       "      <td>37</td>\n",
       "      <td>2016-07-19</td>\n",
       "      <td>15</td>\n",
       "      <td>5</td>\n",
       "      <td>-192</td>\n",
       "      <td>528</td>\n",
       "    </tr>\n",
       "    <tr>\n",
       "      <th>6</th>\n",
       "      <td>38</td>\n",
       "      <td>2016-07-19</td>\n",
       "      <td>8</td>\n",
       "      <td>6</td>\n",
       "      <td>-192</td>\n",
       "      <td>192</td>\n",
       "    </tr>\n",
       "    <tr>\n",
       "      <th>7</th>\n",
       "      <td>40</td>\n",
       "      <td>2016-07-19</td>\n",
       "      <td>14</td>\n",
       "      <td>7</td>\n",
       "      <td>-192</td>\n",
       "      <td>480</td>\n",
       "    </tr>\n",
       "    <tr>\n",
       "      <th>8</th>\n",
       "      <td>43</td>\n",
       "      <td>2016-07-19</td>\n",
       "      <td>18</td>\n",
       "      <td>8</td>\n",
       "      <td>-192</td>\n",
       "      <td>672</td>\n",
       "    </tr>\n",
       "    <tr>\n",
       "      <th>9</th>\n",
       "      <td>44</td>\n",
       "      <td>2016-07-19</td>\n",
       "      <td>24</td>\n",
       "      <td>9</td>\n",
       "      <td>-192</td>\n",
       "      <td>960</td>\n",
       "    </tr>\n",
       "    <tr>\n",
       "      <th>...</th>\n",
       "      <td>...</td>\n",
       "      <td>...</td>\n",
       "      <td>...</td>\n",
       "      <td>...</td>\n",
       "      <td>...</td>\n",
       "      <td>...</td>\n",
       "    </tr>\n",
       "    <tr>\n",
       "      <th>2433</th>\n",
       "      <td>3255</td>\n",
       "      <td>2016-08-23</td>\n",
       "      <td>24</td>\n",
       "      <td>2433</td>\n",
       "      <td>1488</td>\n",
       "      <td>2640</td>\n",
       "    </tr>\n",
       "    <tr>\n",
       "      <th>2434</th>\n",
       "      <td>3256</td>\n",
       "      <td>2016-08-23</td>\n",
       "      <td>14</td>\n",
       "      <td>2434</td>\n",
       "      <td>1488</td>\n",
       "      <td>2160</td>\n",
       "    </tr>\n",
       "    <tr>\n",
       "      <th>2435</th>\n",
       "      <td>3257</td>\n",
       "      <td>2016-08-23</td>\n",
       "      <td>8</td>\n",
       "      <td>2435</td>\n",
       "      <td>1488</td>\n",
       "      <td>1872</td>\n",
       "    </tr>\n",
       "    <tr>\n",
       "      <th>2436</th>\n",
       "      <td>3258</td>\n",
       "      <td>2016-08-23</td>\n",
       "      <td>10</td>\n",
       "      <td>2436</td>\n",
       "      <td>1488</td>\n",
       "      <td>1968</td>\n",
       "    </tr>\n",
       "    <tr>\n",
       "      <th>2437</th>\n",
       "      <td>3259</td>\n",
       "      <td>2016-08-23</td>\n",
       "      <td>26</td>\n",
       "      <td>2437</td>\n",
       "      <td>1488</td>\n",
       "      <td>2736</td>\n",
       "    </tr>\n",
       "    <tr>\n",
       "      <th>2438</th>\n",
       "      <td>3260</td>\n",
       "      <td>2016-08-23</td>\n",
       "      <td>25</td>\n",
       "      <td>2438</td>\n",
       "      <td>1488</td>\n",
       "      <td>2688</td>\n",
       "    </tr>\n",
       "    <tr>\n",
       "      <th>2439</th>\n",
       "      <td>3261</td>\n",
       "      <td>2016-08-23</td>\n",
       "      <td>16</td>\n",
       "      <td>2439</td>\n",
       "      <td>1488</td>\n",
       "      <td>2256</td>\n",
       "    </tr>\n",
       "    <tr>\n",
       "      <th>2440</th>\n",
       "      <td>3262</td>\n",
       "      <td>2016-08-23</td>\n",
       "      <td>14</td>\n",
       "      <td>2440</td>\n",
       "      <td>1488</td>\n",
       "      <td>2160</td>\n",
       "    </tr>\n",
       "    <tr>\n",
       "      <th>2441</th>\n",
       "      <td>3263</td>\n",
       "      <td>2016-08-23</td>\n",
       "      <td>22</td>\n",
       "      <td>2441</td>\n",
       "      <td>1488</td>\n",
       "      <td>2544</td>\n",
       "    </tr>\n",
       "    <tr>\n",
       "      <th>2442</th>\n",
       "      <td>3264</td>\n",
       "      <td>2016-08-23</td>\n",
       "      <td>4</td>\n",
       "      <td>2442</td>\n",
       "      <td>1488</td>\n",
       "      <td>1680</td>\n",
       "    </tr>\n",
       "  </tbody>\n",
       "</table>\n",
       "<p>2443 rows × 6 columns</p>\n",
       "</div>"
      ],
      "text/plain": [
       "      bee_id date_emerged  days_alive  interaction_matrix_idx  born_in_step  dead_by_step\n",
       "0          9   2016-07-19           5                       0          -192            48\n",
       "1         10   2016-07-19          16                       1          -192           576\n",
       "2         17   2016-07-19           4                       2          -192             0\n",
       "3         21   2016-07-19          35                       3          -192          1488\n",
       "4         22   2016-07-19          19                       4          -192           720\n",
       "5         37   2016-07-19          15                       5          -192           528\n",
       "6         38   2016-07-19           8                       6          -192           192\n",
       "7         40   2016-07-19          14                       7          -192           480\n",
       "8         43   2016-07-19          18                       8          -192           672\n",
       "9         44   2016-07-19          24                       9          -192           960\n",
       "...      ...          ...         ...                     ...           ...           ...\n",
       "2433    3255   2016-08-23          24                    2433          1488          2640\n",
       "2434    3256   2016-08-23          14                    2434          1488          2160\n",
       "2435    3257   2016-08-23           8                    2435          1488          1872\n",
       "2436    3258   2016-08-23          10                    2436          1488          1968\n",
       "2437    3259   2016-08-23          26                    2437          1488          2736\n",
       "2438    3260   2016-08-23          25                    2438          1488          2688\n",
       "2439    3261   2016-08-23          16                    2439          1488          2256\n",
       "2440    3262   2016-08-23          14                    2440          1488          2160\n",
       "2441    3263   2016-08-23          22                    2441          1488          2544\n",
       "2442    3264   2016-08-23           4                    2442          1488          1680\n",
       "\n",
       "[2443 rows x 6 columns]"
      ]
     },
     "execution_count": 6,
     "metadata": {},
     "output_type": "execute_result"
    }
   ],
   "source": [
    "# combine both\n",
    "combined_alive_data = alive_data\n",
    "combined_alive_data['interaction_matrix_idx'] = indices_data['interaction_matrix_idx']\n",
    "# now sort by matrix id for easy vector generation\n",
    "combined_alive_data = combined_alive_data.sort_values(by='interaction_matrix_idx')\n",
    "# date column type fix\n",
    "combined_alive_data['date_emerged'] = pd.to_datetime(combined_alive_data['date_emerged'])\n",
    "# let's translate the hatch day into a step where observation_start_date is step 0\n",
    "combined_alive_data['born_in_step'] = combined_alive_data['date_emerged'].map(lambda x: (x - observation_start_date).days * 48)\n",
    "combined_alive_data['dead_by_step'] = combined_alive_data.apply(lambda row: 48 * row['days_alive'] + row['born_in_step'], axis=1)\n",
    "# combined_alive_data = get_combined_alive_data(indices_data, alive_data, observation_start_date)\n",
    "combined_alive_data"
   ]
  },
  {
   "cell_type": "markdown",
   "metadata": {},
   "source": [
    "For data insights like age distribution take a look at the `insights` notebook."
   ]
  },
  {
   "cell_type": "markdown",
   "metadata": {},
   "source": [
    "#### Util"
   ]
  },
  {
   "cell_type": "code",
   "execution_count": 7,
   "metadata": {},
   "outputs": [],
   "source": [
    "def bee_id_to_matrix_id(bee_id, index_data):\n",
    "    '''Translates the bee ID into the matrix ID.'''\n",
    "    return indices_data[indices_data['bee_id'] == bee_id]['interaction_matrix_idx'].item()\n",
    "\n",
    "def matrix_id_to_bee_id(matrix_id):\n",
    "    '''Translates the matrix ID into the bee ID.'''\n",
    "    return indices_data[indices_data['interaction_matrix_idx'] == matrix_id]['bee_id'].item()\n",
    "\n",
    "def get_aliveness_vector(step):\n",
    "    '''Returns a #individuals-long boolean vector of matrix-ID-indexed bee aliveness.'''\n",
    "    return (combined_alive_data['born_in_step'] <= step) & (step < combined_alive_data['dead_by_step'])\n",
    "\n",
    "def get_lifespan_for_row(row, step):\n",
    "    if ((step < row['born_in_step']) | (row['dead_by_step'] < step)): #iloc[0] if you pass in a df\n",
    "        return 0\n",
    "    return row['dead_by_step'] - step  #iloc[0] if you pass in a df    \n",
    "\n",
    "def get_lifespan_vector(step):\n",
    "    '''Returns a #individuals-long vector of matrix-ID-indexed remaining bee lifespans in steps (half an hour).'''\n",
    "    return combined_alive_data.apply(get_lifespan_for_row, axis=1, step=step)\n",
    "\n",
    "def get_lifespan_for_individual(midx):\n",
    "    '''Get the remaining steps to live for given individual matrix index.'''\n",
    "    # start at zero, not before\n",
    "    bis = max(combined_alive_data[combined_alive_data['interaction_matrix_idx'] == midx]['born_in_step'].item(), 0)\n",
    "    dis = combined_alive_data.iloc[midx]['dead_by_step']\n",
    "    # full range, 56 days à 48 steps\n",
    "    r = np.zeros(56 * 48) \n",
    "    # dead in 4 steps => 4,3,2,1 - clip to length\n",
    "    ins = np.arange(dis - bis)[::-1][:len(r) - bis] \n",
    "    r[bis:bis + len(ins)] = ins\n",
    "    return r"
   ]
  },
  {
   "cell_type": "markdown",
   "metadata": {},
   "source": [
    "### Circadian Rhythmicity"
   ]
  },
  {
   "cell_type": "code",
   "execution_count": 8,
   "metadata": {},
   "outputs": [
    {
     "data": {
      "text/html": [
       "<div>\n",
       "<style scoped>\n",
       "    .dataframe tbody tr th:only-of-type {\n",
       "        vertical-align: middle;\n",
       "    }\n",
       "\n",
       "    .dataframe tbody tr th {\n",
       "        vertical-align: top;\n",
       "    }\n",
       "\n",
       "    .dataframe thead th {\n",
       "        text-align: right;\n",
       "    }\n",
       "</style>\n",
       "<table border=\"1\" class=\"dataframe\">\n",
       "  <thead>\n",
       "    <tr style=\"text-align: right;\">\n",
       "      <th></th>\n",
       "      <th>bee_id</th>\n",
       "      <th>age</th>\n",
       "      <th>date</th>\n",
       "      <th>circadian_rhythmicity</th>\n",
       "    </tr>\n",
       "  </thead>\n",
       "  <tbody>\n",
       "    <tr>\n",
       "      <th>0</th>\n",
       "      <td>960</td>\n",
       "      <td>7</td>\n",
       "      <td>2016-07-26</td>\n",
       "      <td>0.025426</td>\n",
       "    </tr>\n",
       "    <tr>\n",
       "      <th>1</th>\n",
       "      <td>1126</td>\n",
       "      <td>7</td>\n",
       "      <td>2016-07-26</td>\n",
       "      <td>0.022645</td>\n",
       "    </tr>\n",
       "    <tr>\n",
       "      <th>2</th>\n",
       "      <td>1519</td>\n",
       "      <td>6</td>\n",
       "      <td>2016-07-26</td>\n",
       "      <td>0.002309</td>\n",
       "    </tr>\n",
       "    <tr>\n",
       "      <th>3</th>\n",
       "      <td>1527</td>\n",
       "      <td>7</td>\n",
       "      <td>2016-07-26</td>\n",
       "      <td>0.002183</td>\n",
       "    </tr>\n",
       "    <tr>\n",
       "      <th>4</th>\n",
       "      <td>1529</td>\n",
       "      <td>7</td>\n",
       "      <td>2016-07-26</td>\n",
       "      <td>0.009352</td>\n",
       "    </tr>\n",
       "  </tbody>\n",
       "</table>\n",
       "</div>"
      ],
      "text/plain": [
       "   bee_id  age       date  circadian_rhythmicity\n",
       "0     960    7 2016-07-26               0.025426\n",
       "1    1126    7 2016-07-26               0.022645\n",
       "2    1519    6 2016-07-26               0.002309\n",
       "3    1527    7 2016-07-26               0.002183\n",
       "4    1529    7 2016-07-26               0.009352"
      ]
     },
     "execution_count": 8,
     "metadata": {},
     "output_type": "execute_result"
    }
   ],
   "source": [
    "circadian_data = pd.read_csv(\n",
    "    'rhythmicity_bn16.csv',\n",
    "    dtype={'bee_id': np.int16, 'age': np.int8, 'date': str, 'circadian_rhythmicity': np.float64},\n",
    "    parse_dates=['date'],\n",
    "    date_parser = pd.to_datetime\n",
    ")\n",
    "circadian_data[0:5]"
   ]
  },
  {
   "cell_type": "code",
   "execution_count": 9,
   "metadata": {},
   "outputs": [],
   "source": [
    "# we need to expand the days into 48 copies, also, we don't know if there are gaps in the date so we should not rely on the date to be continous\n",
    "def circadian_vector_for_individual(bee_id, circadian, observation_start_date):\n",
    "    '''Get the vector of circadian rhythmicity per step for a bee.\n",
    "    \n",
    "    Parameters\n",
    "    ----------\n",
    "    bee_id : int\n",
    "        The ID of the bee.\n",
    "    circadian : pd.DataFrame\n",
    "        The data frame with the circadian rhythmicities.\n",
    "    observation_start_date: datetime\n",
    "        The datetime of observation start.\n",
    "    '''\n",
    "    v = np.zeros(56 * 48)\n",
    "    for row in circadian[circadian['bee_id'] == bee_id].itertuples():\n",
    "        ins_start = (row.date - observation_start_date).days * 48\n",
    "        v[ins_start:ins_start + 48] = np.repeat(row.circadian_rhythmicity, 48)\n",
    "    return v"
   ]
  },
  {
   "cell_type": "markdown",
   "metadata": {},
   "source": [
    "## Data Set"
   ]
  },
  {
   "cell_type": "code",
   "execution_count": 10,
   "metadata": {},
   "outputs": [],
   "source": [
    "class OneDayDataSet(Dataset):\n",
    "    '''Holds one complete day of the network.'''\n",
    "    def __init__(self, day, transform=None):\n",
    "        self.data = sparse.load_npz('daily/{}.npz'.format(day))\n",
    "        self.transform = transform\n",
    "        \n",
    "    def __len__(self):\n",
    "        return self.data.shape[0]\n",
    "    \n",
    "    def __getitem__(self, idx):\n",
    "        d = torch.from_numpy(self.data[idx].todense())\n",
    "        if self.transform:\n",
    "            d = self.transform(d)\n",
    "        return d"
   ]
  },
  {
   "cell_type": "code",
   "execution_count": 11,
   "metadata": {},
   "outputs": [],
   "source": [
    "class IndividualDataSet(Dataset):\n",
    "    '''Holds the data for one individual.'''\n",
    "    def __init__(self, day, transform=None):\n",
    "        self.data = sparse.load_npz('individuals/{}.npz'.format(day))\n",
    "        self.transform = transform\n",
    "        \n",
    "    def __len__(self):\n",
    "        return self.data.shape[0]\n",
    "    \n",
    "    def __getitem__(self, idx):\n",
    "        d = torch.from_numpy(self.data[idx].todense())\n",
    "        if self.transform:\n",
    "            d = self.transform(d)\n",
    "        return d"
   ]
  },
  {
   "cell_type": "code",
   "execution_count": 12,
   "metadata": {},
   "outputs": [],
   "source": [
    "class Bn16DataSet(Dataset):\n",
    "    def __init__(self, days=(0, 56), transform=None):\n",
    "        self.days = days\n",
    "        self.transform = transform\n",
    "        \n",
    "    def __len__(self):\n",
    "        return 2443\n",
    "    \n",
    "    def __getitem__(self, idx):        \n",
    "        d = sparse.load_npz('individuals/{}.npz'.format(idx))\n",
    "        d = d[self.days[0] * 48:self.days[1] * 48]\n",
    "        d = torch.from_numpy(d.todense().astype(np.float32))\n",
    "        if self.transform:\n",
    "            d = self.transform(d)\n",
    "        return (\n",
    "            d,\n",
    "            {\n",
    "                'lifespan': get_lifespan_for_individual(idx).astype('float'),\n",
    "                'circadian': circadian_vector_for_individual(\n",
    "                    matrix_id_to_bee_id(idx),\n",
    "                    circadian_data,\n",
    "                    observation_start_date\n",
    "                ).astype('float')\n",
    "            }\n",
    "        )"
   ]
  },
  {
   "cell_type": "markdown",
   "metadata": {},
   "source": [
    "### Split & Loaders"
   ]
  },
  {
   "cell_type": "code",
   "execution_count": 13,
   "metadata": {},
   "outputs": [
    {
     "data": {
      "text/plain": [
       "2443"
      ]
     },
     "execution_count": 13,
     "metadata": {},
     "output_type": "execute_result"
    }
   ],
   "source": [
    "# first 36 days\n",
    "bn16_data = Bn16DataSet(days=(0, 35))\n",
    "len(bn16_data)"
   ]
  },
  {
   "cell_type": "code",
   "execution_count": 14,
   "metadata": {},
   "outputs": [],
   "source": [
    "# 80/20 split\n",
    "train_data, test_data = random_split(bn16_data, [1955, 488])\n",
    "\n",
    "full_loader = DataLoader(\n",
    "    bn16_data\n",
    "    ,batch_size=BATCH_SIZE\n",
    "    ,shuffle=True\n",
    "    ,num_workers=4\n",
    "    ,drop_last=True\n",
    ")\n",
    "train_loader = DataLoader(\n",
    "    train_data\n",
    "    ,batch_size=BATCH_SIZE\n",
    "    ,shuffle=True\n",
    "    ,num_workers=4\n",
    "    ,drop_last=True\n",
    ")\n",
    "test_loader = DataLoader(\n",
    "    test_data\n",
    "    ,batch_size=BATCH_SIZE\n",
    "    ,shuffle=True\n",
    "    ,num_workers=2\n",
    "    ,drop_last=True\n",
    ")"
   ]
  },
  {
   "cell_type": "code",
   "execution_count": 15,
   "metadata": {},
   "outputs": [
    {
     "name": "stdout",
     "output_type": "stream",
     "text": [
      "0 torch.Size([8, 1680, 2443]) {'lifespan': tensor([[ 143.,  142.,  141.,  ...,    0.,    0.,    0.],\n",
      "        [   0.,    0.,    0.,  ...,    0.,    0.,    0.],\n",
      "        [   0.,    0.,    0.,  ...,    0.,    0.,    0.],\n",
      "        ...,\n",
      "        [1775., 1774., 1773.,  ...,    0.,    0.,    0.],\n",
      "        [   0.,    0.,    0.,  ...,    0.,    0.,    0.],\n",
      "        [   0.,    0.,    0.,  ...,    0.,    0.,    0.]], dtype=torch.float64), 'circadian': tensor([[0.0000, 0.0000, 0.0000,  ..., 0.0000, 0.0000, 0.0000],\n",
      "        [0.0000, 0.0000, 0.0000,  ..., 0.0000, 0.0000, 0.0000],\n",
      "        [0.0000, 0.0000, 0.0000,  ..., 0.1023, 0.1023, 0.1023],\n",
      "        ...,\n",
      "        [0.0000, 0.0000, 0.0000,  ..., 0.0000, 0.0000, 0.0000],\n",
      "        [0.0000, 0.0000, 0.0000,  ..., 0.0000, 0.0000, 0.0000],\n",
      "        [0.0000, 0.0000, 0.0000,  ..., 0.0000, 0.0000, 0.0000]],\n",
      "       dtype=torch.float64)}\n"
     ]
    }
   ],
   "source": [
    "for idx, (x, y) in enumerate(train_loader):\n",
    "    print(idx, x.shape, y)\n",
    "    break"
   ]
  },
  {
   "cell_type": "code",
   "execution_count": 16,
   "metadata": {},
   "outputs": [
    {
     "data": {
      "text/plain": [
       "(305, 244, 61)"
      ]
     },
     "execution_count": 16,
     "metadata": {},
     "output_type": "execute_result"
    }
   ],
   "source": [
    "len(full_loader), len(train_loader), len(test_loader)"
   ]
  },
  {
   "cell_type": "markdown",
   "metadata": {},
   "source": [
    "# Model"
   ]
  },
  {
   "cell_type": "code",
   "execution_count": 17,
   "metadata": {},
   "outputs": [],
   "source": [
    "class CPC(nn.Module):\n",
    "    def __init__(self, n_steps, batch_size, hidden_size=256, context_size=256):\n",
    "        super(CPC, self).__init__()\n",
    "        self.n_steps = n_steps\n",
    "        self.hidden_size = hidden_size\n",
    "        self.context_size = context_size\n",
    "        self.g_enc = self.encoder()\n",
    "        self.g_ar = self.autoregressive()\n",
    "        self.step_W = nn.ModuleList([nn.Linear(self.context_size, self.hidden_size) for i in range(n_steps)])\n",
    "        self.loss_criterion = nn.CrossEntropyLoss()\n",
    "        self.batch_size = batch_size\n",
    "        self.cpc_target = torch.arange(0, batch_size).long().to(DEVICE)\n",
    "\n",
    "    def encoder(self):            \n",
    "        # conv2d signature: in, out, kernel, stride, padding\n",
    "        # input is: batch, channel, time, interactions\n",
    "        return nn.Sequential(\n",
    "            # temporal downsampling :\n",
    "#             nn.Conv2d(1, 32, (8, 1), (4, 1), (2, 0)), # 2 * 1680 / 8 = 420\n",
    "#             nn.ReLU(),\n",
    "#             nn.Conv2d(32, self.hidden_size, (1, 2443), 1, 0),\n",
    "#             nn.ReLU(),\n",
    "            \n",
    "            # temporal downsampling : ~55% CPC\n",
    "            nn.Conv2d(1, 128, (8, 1), 4, (4, 0)),\n",
    "            nn.ReLU(),\n",
    "            nn.Conv2d(128, 256, (4, 1), 2, (2, 0)),\n",
    "            nn.ReLU(),\n",
    "            nn.Conv2d(256, self.hidden_size, (211, 1), 1, 0),\n",
    "            nn.ReLU(),\n",
    "        )\n",
    "        \n",
    "    def autoregressive(self):\n",
    "        return nn.GRU(self.hidden_size, self.context_size, batch_first=True)\n",
    "\n",
    "    def predict(self, x, hidden=None):\n",
    "        '''Return c_t for the whole given x, all its steps and the hidden state.'''\n",
    "        with torch.no_grad():\n",
    "            if hidden == None:\n",
    "                hidden = self.empty_hidden()\n",
    "            z = self.g_enc(x)\n",
    "            z = z.squeeze().permute(0, 2, 1)\n",
    "            pred, hidden = self.g_ar(z, hidden)\n",
    "            return pred[:,-1,:], pred, hidden\n",
    "\n",
    "    @autocast()\n",
    "    def forward(self, x, gar_hidden):\n",
    "        # put through g_enc\n",
    "#         print(x.shape) # 8, 1680, 2443\n",
    "        z = self.g_enc(x) # for convs\n",
    "#         z = self.g_enc(x.squeeze()) # for others\n",
    "#         z = self.g_enc(x.permute((0,2,1)))\n",
    "#         z = self.g_enc(x.permute((2,0,1)), torch.zeros((x.shape[2], x.shape[0], self.hidden_size)))\n",
    "#         print(z.shape) # 8, 256, 1680, 1\n",
    "        # sample a subsequence of n steps\n",
    "        # but we need at least one bit to feed into the GRU, so we pick from 1 to seqlen - n_steps\n",
    "        subsample_idx = torch.randint(1, z.shape[1] - self.n_steps, size=(1,)) # 1-1680-12 = 1667\n",
    "        \n",
    "        # put everything before our pick through g_ar, collect c_t        \n",
    "        # g_ar expects shape(batch, seq_len, input_size), h_0 of shape (num_layers * num_directions, batch, hidden_size)\n",
    "        # https://pytorch.org/docs/master/generated/torch.nn.GRU.html#torch.nn.GRU\n",
    "        # https://jdhao.github.io/2019/07/10/pytorch_view_reshape_transpose_permute/\n",
    "        z = z.squeeze().permute(0, 2, 1)\n",
    "        c_tx, gar_hidden = self.g_ar(z[:,:subsample_idx,:], gar_hidden)\n",
    "        c_t = c_tx[:,-1,:].squeeze() # GRU outputs a c for every step - we want the last\n",
    "        #print(c_tx.shape) # e.g. 8*112*256\n",
    "\n",
    "        # for n steps, put through W_k for corresponding step to get predictions\n",
    "        # W_k * c_t\n",
    "        pred = [self.step_W[step](c_t) for step in range(self.n_steps)]\n",
    "        #print(pred[0].shape) # 8*512\n",
    "\n",
    "        # info nce loss\n",
    "        acc = []\n",
    "        info_nce_loss = []\n",
    "        for time_step in range(self.n_steps):\n",
    "            # f_k = exp(z_{t+k} * W_k * c_t)\n",
    "            f_k = torch.mm(z[:,subsample_idx + time_step,:].squeeze(), torch.transpose(pred[time_step], 0, 1))\n",
    "            info_nce_loss.append(self.loss_criterion(f_k, self.cpc_target))\n",
    "            accuracy = torch.mean((torch.argmax(f_k, dim=1) == self.cpc_target).float())\n",
    "            acc.append(accuracy)\n",
    "        info_nce_loss = torch.stack(info_nce_loss).mean()\n",
    "        \n",
    "        return torch.mean(info_nce_loss), torch.mean(torch.tensor(acc))\n",
    "    \n",
    "    def empty_hidden(self):\n",
    "        return torch.zeros(1, self.batch_size, self.context_size).to(DEVICE)"
   ]
  },
  {
   "cell_type": "code",
   "execution_count": 18,
   "metadata": {},
   "outputs": [],
   "source": [
    "# view_model = CPC(N_STEPS, BATCH_SIZE, hidden_size=64, context_size=128).to(DEVICE)\n",
    "# summary(view_model.g_enc, (1 , 1680, 2443))\n",
    "# print()\n",
    "# summary(view_model.g_ar, (1, 64))\n",
    "# del view_model\n",
    "# gc.collect()"
   ]
  },
  {
   "cell_type": "markdown",
   "metadata": {},
   "source": [
    "## Training Code"
   ]
  },
  {
   "cell_type": "code",
   "execution_count": 19,
   "metadata": {},
   "outputs": [],
   "source": [
    "def train(model, epoch, optimizer, data_loader):\n",
    "    model.train()\n",
    "    loss = 0 # epoch loss\n",
    "    acc = 0  # epoch acc\n",
    "    epoch_loss = []\n",
    "    epoch_acc = []\n",
    "    time_epoch_start = timer()\n",
    "    report_steps = [.25, .50, .75]\n",
    "    report_steps.reverse()\n",
    "    for batch_idx, (x, y) in enumerate(data_loader):\n",
    "        time_batch_start = timer()\n",
    "        optimizer.zero_grad()\n",
    "                \n",
    "        # add channel dimension - for convolutions\n",
    "        if len(x.shape) < 4:\n",
    "            x = x.unsqueeze(1).to(DEVICE)\n",
    "\n",
    "        # pad to multiple of num heads for transformer\n",
    "#         x = torch.cat((x, torch.zeros(x.shape[0], x.shape[1], 5)), dim=2).to(DEVICE)\n",
    "        \n",
    "        # fwd - info_nce loss inside forward\n",
    "        loss, accuracy = model(x, model.empty_hidden())\n",
    "        \n",
    "        # back\n",
    "        loss.backward()\n",
    "        optimizer.step()\n",
    "\n",
    "        epoch_loss.append(loss.item())\n",
    "        epoch_acc.append(accuracy)\n",
    "\n",
    "        # progress report every couple updates\n",
    "        #if batch_idx % 40 == 0:\n",
    "        if len(report_steps) > 0 and batch_idx / len(data_loader) > report_steps[-1]:\n",
    "            report_steps.pop()\n",
    "            print('Epoch: {} [{}/{} ({:.0f}%)]\\tLoss: {:.8f}\\tAcc: {:.2f}%\\tTime: {:.6f}'.format(\n",
    "                    epoch,\n",
    "                    batch_idx * BATCH_SIZE,\n",
    "                    len(data_loader.dataset),\n",
    "                    100. * batch_idx / len(data_loader),\n",
    "                    loss,\n",
    "                    accuracy * 100,\n",
    "                    timer() - time_batch_start\n",
    "                ))\n",
    "\n",
    "    epoch_loss_mean = torch.mean(torch.tensor(epoch_loss, dtype=torch.float64)).item()\n",
    "    epoch_acc_mean = torch.mean(torch.tensor(epoch_acc, dtype=torch.float64)).item()\n",
    "    # epoch report\n",
    "    print('Epoch: {} [{}/{} (100%)]\\tEpoch Loss: {:.8f}\\tEpoch Acc: {:.2f}%\\tEpoch Time: {:.6f}'.format(\n",
    "        epoch,\n",
    "        len(data_loader.dataset),\n",
    "        len(data_loader.dataset),\n",
    "        epoch_loss_mean,\n",
    "        epoch_acc_mean * 100,\n",
    "        timer() - time_epoch_start\n",
    "    ))\n",
    "    return epoch_loss_mean, epoch_acc_mean"
   ]
  },
  {
   "cell_type": "markdown",
   "metadata": {},
   "source": [
    "-----------"
   ]
  },
  {
   "cell_type": "markdown",
   "metadata": {},
   "source": [
    "## Downstream Tasks"
   ]
  },
  {
   "cell_type": "markdown",
   "metadata": {},
   "source": [
    "See https://zenodo.org/record/3862966\n",
    "\n",
    "Downstream tasks are:\n",
    "\n",
    "1. Aliveness prediction\n",
    "2. Circadian rhythmicity\n",
    "3. Task allocation (via time spent on substrates)"
   ]
  },
  {
   "cell_type": "markdown",
   "metadata": {},
   "source": [
    "The easiest downstream task should be the aliveness prediction. A boolean output answering the question whether an individual is alive or not given a history of interaction matrices might be too easy - if there's some interaction it must be alive, if there is none it might be dead. But predicting how long an individual still has to live is a harder task. Still, if there was no interaction in the recent past the prediction should be zero. But if there was, it's probably hard to predict the future. But how do we deal with the case that the individual was not yet born? Do we output zero? The aliveness ground truth is day-based but our observations are half-hourly. How do we encode this? The value should maybe gradually fade out to zero."
   ]
  },
  {
   "cell_type": "markdown",
   "metadata": {},
   "source": [
    "## Aliveness Prediction"
   ]
  },
  {
   "cell_type": "code",
   "execution_count": 20,
   "metadata": {},
   "outputs": [],
   "source": [
    "class AlivenessEstimator(nn.Module):\n",
    "    '''Simple linear regression.'''\n",
    "    def __init__(self, in_size, out_size):\n",
    "        super(AlivenessEstimator, self).__init__()\n",
    "        self.linear = torch.nn.Linear(in_size, out_size)\n",
    "\n",
    "    def forward(self, x):\n",
    "        return self.linear(x)\n",
    "    \n",
    "    def predict(self, x):\n",
    "        return self.linear(x.to(DEVICE))"
   ]
  },
  {
   "cell_type": "markdown",
   "metadata": {},
   "source": [
    "To train the estimator we will choose an index $0 < i <= len_{seq}$ and feed the sequences until this index. The estimator must then predict the remaining life time for the individuals from that index."
   ]
  },
  {
   "cell_type": "code",
   "execution_count": 21,
   "metadata": {},
   "outputs": [],
   "source": [
    "def get_temp_y(y, step):\n",
    "    # step 1 has the first 6, then it adds 8\n",
    "    return y[:,6+4*step]"
   ]
  },
  {
   "cell_type": "code",
   "execution_count": 22,
   "metadata": {},
   "outputs": [],
   "source": [
    "def train_estimator(cpc_model, downstream_model, downstream_key, optimizer, loss_fn, epoch, data_loader, ctx_size):\n",
    "    cpc_model.to(DEVICE)\n",
    "    cpc_model.eval()\n",
    "    downstream_model.train()\n",
    "\n",
    "    epoch_loss = []\n",
    "    #epoch_acc = []\n",
    "    epoch_mae = []\n",
    "    \n",
    "    for batch_idx, (x, y) in enumerate(data_loader):\n",
    "        optimizer.zero_grad()\n",
    "\n",
    "        # add channel dim\n",
    "        x = x.unsqueeze(1).to(DEVICE)\n",
    "        y = y[downstream_key]\n",
    "        y.to(DEVICE)\n",
    "        #print(x.shape) # 8,1,1680,2443\n",
    "#         print(y.shape)\n",
    "        \n",
    "        # cpc output\n",
    "        output, c, hidden = cpc_model.predict(x)\n",
    "        #c_t = output.contiguous().view((-1, 256))\n",
    "        #print(c.shape) # 8,840,256\n",
    "\n",
    "        # pick an index 0 < i <= len(seq) to feed to the model\n",
    "        # then diff the lifespan for that index against the prediction\n",
    "        # TODO: we could use more than one index per batch\n",
    "#         print('c.shape:', c.shape)\n",
    "        rand_seq_idx = torch.randint(low=1, high=c.shape[2], size=(1,))\n",
    "#         print('rand:\\t', rand_seq_idx.item())\n",
    "        c = c[:,rand_seq_idx].contiguous().view((-1, ctx_size)) # adjust to context size\n",
    "#         print('y.shape:', y.shape)\n",
    "#         print('y slice:', y[:,rand_seq_idx])\n",
    "#         y = y[:,rand_seq_idx]\n",
    "        y = get_temp_y(y, rand_seq_idx)\n",
    "        \n",
    "        # shuffle batch\n",
    "#         y = y.view((-1,1)) # to column\n",
    "#         shuffle_idx = torch.randperm(BATCH_SIZE) \n",
    "#         c_t = c_t[shuffle_idx,:]\n",
    "#         y = y[shuffle_idx,:].view((-1,)) # to row\n",
    "        \n",
    "        # classifier fwd\n",
    "#         c_t = c_t.to(DEVICE)\n",
    "        c_t = c.to(DEVICE)\n",
    "        y = y.to(DEVICE)\n",
    "        output = downstream_model(c_t)\n",
    "#         print(output)\n",
    "\n",
    "        #print(output.shape, output.max(1, keepdim=True)[1])\n",
    "\n",
    "        # loss & backprop\n",
    "        loss = loss_fn(output.double(), y.double())\n",
    "        loss.backward()\n",
    "        optimizer.step()\n",
    "\n",
    "        # metrics\n",
    "        epoch_loss.append(loss.item())\n",
    "        #epoch_acc.append(acc)\n",
    "        epoch_mae.append(F.l1_loss(output, y, reduction='mean').item())\n",
    "        \n",
    "        # intra epoch results\n",
    "        if batch_idx % 100 == 0:\n",
    "            print('Epoch: {} [{}/{} ({:.0f}%)]\\tMAE: {:.2f}\\tMSE: {:.6f}'.format(\n",
    "                epoch, batch_idx * BATCH_SIZE, len(data_loader.dataset),\n",
    "                100. * batch_idx / len(data_loader), epoch_mae[-1], loss.item()))\n",
    "        \n",
    "    return torch.mean(torch.tensor(epoch_loss)), torch.mean(torch.tensor(epoch_mae))"
   ]
  },
  {
   "cell_type": "markdown",
   "metadata": {},
   "source": [
    "## Circadian Rhythmicity\n",
    "\n",
    "The cirdcadian rhythmicity can roughly be described as \"wake-sleep cycle\" - or better - that cycle is a result of the rhythmicity. Wild et. al tried to fit the activity cycle of the individuals, measured by their velocities withn a timespan, to a sine curve per individual (two parameters: amplitude and phase drift, fixed period of 1/d). They reported the R² values of the fit per individual.\n",
    "\n",
    "We will try to predict the R² value per individual."
   ]
  },
  {
   "cell_type": "code",
   "execution_count": 23,
   "metadata": {},
   "outputs": [],
   "source": [
    "class CircadianEstimator(nn.Module):\n",
    "    '''Simple linear regression.'''\n",
    "    def __init__(self, in_size, out_size):\n",
    "        super(CircadianEstimator, self).__init__()\n",
    "        self.linear = torch.nn.Linear(in_size, out_size)\n",
    "\n",
    "    def forward(self, x):\n",
    "        return self.linear(x)\n",
    "    \n",
    "    def predict(self, x):\n",
    "        return self.linear(x.to(DEVICE))"
   ]
  },
  {
   "cell_type": "markdown",
   "metadata": {},
   "source": [
    "## Saving & Loading\n",
    "\n",
    "Code for saving & loading checkpoints."
   ]
  },
  {
   "cell_type": "code",
   "execution_count": 24,
   "metadata": {},
   "outputs": [],
   "source": [
    "CHECKPOINT_PATH = './checkpoints/'\n",
    "CHECKPOINT_PATH_DOWNSTREAM = './checkpoints/ds/'"
   ]
  },
  {
   "cell_type": "code",
   "execution_count": 25,
   "metadata": {},
   "outputs": [],
   "source": [
    "def save_model(model, optimizer, loss_hist, metrics, checkpoint_path, device=DEVICE):\n",
    "    '''Save the a given model's parameters, optimizer, loss and metrics[] history.'''\n",
    "    # in case there are some tensors map everything to plain numbers\n",
    "    loss = list(map(lambda x: x.item() if isinstance(x, torch.Tensor) else x, loss_hist))\n",
    "    for i in range(len(metrics)):\n",
    "        metrics[i] = list(map(lambda x: x.item() if isinstance(x, torch.Tensor) else x, metrics[i]))\n",
    "    \n",
    "    # move to CPU for saving\n",
    "    model.cpu() \n",
    "    checkpoint = {\n",
    "        'params': model.state_dict(),\n",
    "        'optimizer': optimizer.state_dict(),\n",
    "        'loss': loss,\n",
    "        'metrics': metrics,\n",
    "        'schema_version': 1\n",
    "    }\n",
    "    torch.save(checkpoint, checkpoint_path)\n",
    "    # move back to target device\n",
    "    model.to(device)\n",
    "    \n",
    "def load_model(model, optimizer, checkpoint_path, device=DEVICE):\n",
    "    '''Load a model's parameters, optimizer, loss and metrics[] history.'''\n",
    "    checkpoint = torch.load(checkpoint_path)\n",
    "\n",
    "    model.load_state_dict(checkpoint['params'])\n",
    "    model.to(device)\n",
    "\n",
    "    optimizer.load_state_dict(checkpoint['optimizer'])\n",
    "    loss = checkpoint['loss']\n",
    "    metrics = checkpoint['metrics']\n",
    "    try:\n",
    "        schema_version = checkpoint['schema_version']\n",
    "    except KeyError:\n",
    "        schema_version = 1\n",
    "    return {\n",
    "        'model': model,\n",
    "        'optimizer': optimizer,\n",
    "        'loss': loss,\n",
    "        'metrics': metrics,\n",
    "        'schema_version': schema_version\n",
    "    }\n",
    "\n",
    "def list_models():\n",
    "    return glob.glob('./checkpoints/*'), glob.glob('./checkpoints/ds/*')"
   ]
  },
  {
   "cell_type": "code",
   "execution_count": 26,
   "metadata": {},
   "outputs": [
    {
     "data": {
      "text/plain": [
       "(['./checkpoints/cpc_checkpoint_nbh.pt',\n",
       "  './checkpoints/cpc_checkpoint_32_64_500epochs.pt',\n",
       "  './checkpoints/cpc_checkpoint_nbh_64_128.pt',\n",
       "  './checkpoints/cpc_checkpoint_wide_cnn.pt',\n",
       "  './checkpoints/cpc_checkpoint_cembed_b64_h64',\n",
       "  './checkpoints/cpc_checkpoint_32_64.pt',\n",
       "  './checkpoints/cpc_checkpoint_pos512.pt',\n",
       "  './checkpoints/cpc_checkpoint_spatio_temp.pt',\n",
       "  './checkpoints/cpc_checkpoint_temp_stacked.pt',\n",
       "  './checkpoints/ds',\n",
       "  './checkpoints/cpc_checkpoint_hyperopt',\n",
       "  './checkpoints/cpc_checkpoint_cembed',\n",
       "  './checkpoints/cpc_checkpoint_hyperopt_lstm.pt',\n",
       "  './checkpoints/cpc_checkpoint_spatio_temp_fw.pt'],\n",
       " ['./checkpoints/ds/ds_checkpoint_pos512.pt',\n",
       "  './checkpoints/ds/ds_checkpoint_alive_cembed',\n",
       "  './checkpoints/ds/ds_circadian_pos_64_128.pt',\n",
       "  './checkpoints/ds/ds_checkpoint.pt',\n",
       "  './checkpoints/ds/ds_checkpoint_circadian_cembedxl',\n",
       "  './checkpoints/ds/ds_checkpoint_alive_64_128.pt',\n",
       "  './checkpoints/ds/ds_circadian_pos512.pt',\n",
       "  './checkpoints/ds/ds_checkpoint_alive_temp_spat',\n",
       "  './checkpoints/ds/ds_checkpoint_alive_hyperopt.pt',\n",
       "  './checkpoints/ds/ds_checkpoint_alive_cembedxl',\n",
       "  './checkpoints/ds/ds_checkpoint_nbh.pt',\n",
       "  './checkpoints/ds/ds_checkpoint_circadian_cembed'])"
      ]
     },
     "execution_count": 26,
     "metadata": {},
     "output_type": "execute_result"
    }
   ],
   "source": [
    "list_models()"
   ]
  },
  {
   "cell_type": "markdown",
   "metadata": {},
   "source": [
    "# Training"
   ]
  },
  {
   "cell_type": "markdown",
   "metadata": {},
   "source": [
    "## Training - CPC\n",
    "\n",
    "Actual training of the CPC model."
   ]
  },
  {
   "cell_type": "code",
   "execution_count": 28,
   "metadata": {},
   "outputs": [],
   "source": [
    "#model = CPC(N_STEPS, BATCH_SIZE, hidden_size=32, context_size=64).to(DEVICE)\n",
    "model = CPC(N_STEPS, BATCH_SIZE, hidden_size=256, context_size=256).to(DEVICE)\n",
    "optimizer = torch.optim.Adam(model.parameters(), lr=0.001, betas=(0.9, 0.999), eps=1e-08, weight_decay=0)"
   ]
  },
  {
   "cell_type": "code",
   "execution_count": 29,
   "metadata": {},
   "outputs": [],
   "source": [
    "loss_cpc = []\n",
    "acc_cpc = []"
   ]
  },
  {
   "cell_type": "code",
   "execution_count": 31,
   "metadata": {},
   "outputs": [
    {
     "name": "stdout",
     "output_type": "stream",
     "text": [
      "Epoch: 0 [616/2443 (25%)]\tLoss: 1.36805153\tAcc: 43.75%\tTime: 0.216338\n",
      "Epoch: 0 [1224/2443 (50%)]\tLoss: 1.32342672\tAcc: 53.12%\tTime: 0.221252\n",
      "Epoch: 0 [1832/2443 (75%)]\tLoss: 1.29462218\tAcc: 39.58%\tTime: 0.215600\n",
      "Epoch: 0 [2443/2443 (100%)]\tEpoch Loss: 1.44696328\tEpoch Acc: 39.84%\tEpoch Time: 72.650860\n",
      "Epoch: 1 [616/2443 (25%)]\tLoss: 1.27148485\tAcc: 44.79%\tTime: 0.219018\n",
      "Epoch: 1 [1224/2443 (50%)]\tLoss: 1.31967771\tAcc: 45.83%\tTime: 0.222596\n",
      "Epoch: 1 [1832/2443 (75%)]\tLoss: 1.84119582\tAcc: 20.83%\tTime: 0.220676\n",
      "Epoch: 1 [2443/2443 (100%)]\tEpoch Loss: 1.38242628\tEpoch Acc: 42.42%\tEpoch Time: 72.501645\n",
      "Epoch: 2 [616/2443 (25%)]\tLoss: 1.52914500\tAcc: 34.38%\tTime: 0.217920\n",
      "Epoch: 2 [1224/2443 (50%)]\tLoss: 1.30170488\tAcc: 48.96%\tTime: 0.219162\n",
      "Epoch: 2 [1832/2443 (75%)]\tLoss: 1.50027776\tAcc: 33.33%\tTime: 0.218356\n",
      "Epoch: 2 [2443/2443 (100%)]\tEpoch Loss: 1.36572262\tEpoch Acc: 43.65%\tEpoch Time: 72.862816\n",
      "Epoch: 3 [616/2443 (25%)]\tLoss: 1.91132200\tAcc: 27.08%\tTime: 0.218582\n",
      "Epoch: 3 [1224/2443 (50%)]\tLoss: 0.94791114\tAcc: 65.62%\tTime: 0.220354\n",
      "Epoch: 3 [1832/2443 (75%)]\tLoss: 1.52515161\tAcc: 41.67%\tTime: 0.220163\n",
      "Epoch: 3 [2443/2443 (100%)]\tEpoch Loss: 1.30674419\tEpoch Acc: 45.98%\tEpoch Time: 72.529866\n",
      "Epoch: 4 [616/2443 (25%)]\tLoss: 1.32202411\tAcc: 51.04%\tTime: 0.221615\n",
      "Epoch: 4 [1224/2443 (50%)]\tLoss: 1.41081607\tAcc: 52.08%\tTime: 0.222643\n",
      "Epoch: 4 [1832/2443 (75%)]\tLoss: 1.64886284\tAcc: 40.62%\tTime: 0.222273\n",
      "Epoch: 4 [2443/2443 (100%)]\tEpoch Loss: 1.28279458\tEpoch Acc: 46.79%\tEpoch Time: 72.960431\n",
      "Epoch: 5 [616/2443 (25%)]\tLoss: 0.75453919\tAcc: 69.79%\tTime: 0.221524\n",
      "Epoch: 5 [1224/2443 (50%)]\tLoss: 1.10147488\tAcc: 55.21%\tTime: 0.217356\n",
      "Epoch: 5 [1832/2443 (75%)]\tLoss: 0.79543281\tAcc: 60.42%\tTime: 0.221755\n",
      "Epoch: 5 [2443/2443 (100%)]\tEpoch Loss: 1.27309822\tEpoch Acc: 47.14%\tEpoch Time: 73.076116\n",
      "Epoch: 6 [616/2443 (25%)]\tLoss: 1.45040691\tAcc: 37.50%\tTime: 0.223396\n",
      "Epoch: 6 [1224/2443 (50%)]\tLoss: 0.91878289\tAcc: 59.38%\tTime: 0.221236\n",
      "Epoch: 6 [1832/2443 (75%)]\tLoss: 1.12979960\tAcc: 51.04%\tTime: 0.221476\n",
      "Epoch: 6 [2443/2443 (100%)]\tEpoch Loss: 1.22979940\tEpoch Acc: 49.00%\tEpoch Time: 73.119553\n",
      "Epoch: 7 [616/2443 (25%)]\tLoss: 1.54151249\tAcc: 38.54%\tTime: 0.217693\n",
      "Epoch: 7 [1224/2443 (50%)]\tLoss: 1.16186011\tAcc: 53.12%\tTime: 0.218165\n",
      "Epoch: 7 [1832/2443 (75%)]\tLoss: 1.15001535\tAcc: 50.00%\tTime: 0.220857\n",
      "Epoch: 7 [2443/2443 (100%)]\tEpoch Loss: 1.24493343\tEpoch Acc: 48.46%\tEpoch Time: 73.079223\n",
      "Epoch: 8 [616/2443 (25%)]\tLoss: 1.68726158\tAcc: 32.29%\tTime: 0.219004\n",
      "Epoch: 8 [1224/2443 (50%)]\tLoss: 1.24201477\tAcc: 46.88%\tTime: 0.221852\n",
      "Epoch: 8 [1832/2443 (75%)]\tLoss: 1.45933652\tAcc: 44.79%\tTime: 0.220510\n",
      "Epoch: 8 [2443/2443 (100%)]\tEpoch Loss: 1.24296776\tEpoch Acc: 48.37%\tEpoch Time: 73.073547\n",
      "Epoch: 9 [616/2443 (25%)]\tLoss: 1.03416562\tAcc: 61.46%\tTime: 0.223071\n",
      "Epoch: 9 [1224/2443 (50%)]\tLoss: 1.17720926\tAcc: 48.96%\tTime: 0.225609\n",
      "Epoch: 9 [1832/2443 (75%)]\tLoss: 1.47335052\tAcc: 40.62%\tTime: 0.218770\n",
      "Epoch: 9 [2443/2443 (100%)]\tEpoch Loss: 1.19863475\tEpoch Acc: 49.80%\tEpoch Time: 73.069410\n",
      "Epoch: 10 [616/2443 (25%)]\tLoss: 1.55984449\tAcc: 42.71%\tTime: 0.217624\n",
      "Epoch: 10 [1224/2443 (50%)]\tLoss: 1.50797653\tAcc: 41.67%\tTime: 0.215704\n",
      "Epoch: 10 [1832/2443 (75%)]\tLoss: 1.26685464\tAcc: 42.71%\tTime: 0.215433\n",
      "Epoch: 10 [2443/2443 (100%)]\tEpoch Loss: 1.17176706\tEpoch Acc: 51.45%\tEpoch Time: 73.144794\n",
      "Epoch: 11 [616/2443 (25%)]\tLoss: 0.99528980\tAcc: 67.71%\tTime: 0.222120\n",
      "Epoch: 11 [1224/2443 (50%)]\tLoss: 0.91628122\tAcc: 56.25%\tTime: 0.221940\n",
      "Epoch: 11 [1832/2443 (75%)]\tLoss: 1.67333913\tAcc: 30.21%\tTime: 0.215505\n",
      "Epoch: 11 [2443/2443 (100%)]\tEpoch Loss: 1.17634937\tEpoch Acc: 51.21%\tEpoch Time: 72.817284\n",
      "Epoch: 12 [616/2443 (25%)]\tLoss: 1.02021456\tAcc: 54.17%\tTime: 0.224517\n",
      "Epoch: 12 [1224/2443 (50%)]\tLoss: 1.27611864\tAcc: 51.04%\tTime: 0.221338\n",
      "Epoch: 12 [1832/2443 (75%)]\tLoss: 0.93257797\tAcc: 59.38%\tTime: 0.221986\n",
      "Epoch: 12 [2443/2443 (100%)]\tEpoch Loss: 1.16834243\tEpoch Acc: 51.58%\tEpoch Time: 72.458097\n",
      "Epoch: 13 [616/2443 (25%)]\tLoss: 0.68548650\tAcc: 72.92%\tTime: 0.219569\n",
      "Epoch: 13 [1224/2443 (50%)]\tLoss: 0.97766560\tAcc: 61.46%\tTime: 0.219927\n",
      "Epoch: 13 [1832/2443 (75%)]\tLoss: 1.38733315\tAcc: 44.79%\tTime: 0.218194\n",
      "Epoch: 13 [2443/2443 (100%)]\tEpoch Loss: 1.20081812\tEpoch Acc: 50.54%\tEpoch Time: 72.713326\n",
      "Epoch: 14 [616/2443 (25%)]\tLoss: 1.52994633\tAcc: 42.71%\tTime: 0.218421\n",
      "Epoch: 14 [1224/2443 (50%)]\tLoss: 0.73678315\tAcc: 67.71%\tTime: 0.219961\n",
      "Epoch: 14 [1832/2443 (75%)]\tLoss: 1.03312802\tAcc: 54.17%\tTime: 0.220372\n",
      "Epoch: 14 [2443/2443 (100%)]\tEpoch Loss: 1.17546966\tEpoch Acc: 51.29%\tEpoch Time: 72.378508\n",
      "Epoch: 15 [616/2443 (25%)]\tLoss: 1.60682750\tAcc: 36.46%\tTime: 0.218660\n",
      "Epoch: 15 [1224/2443 (50%)]\tLoss: 1.49287879\tAcc: 35.42%\tTime: 0.217749\n",
      "Epoch: 15 [1832/2443 (75%)]\tLoss: 1.09968507\tAcc: 47.92%\tTime: 0.221246\n",
      "Epoch: 15 [2443/2443 (100%)]\tEpoch Loss: 1.16279580\tEpoch Acc: 51.65%\tEpoch Time: 73.119360\n",
      "Epoch: 16 [616/2443 (25%)]\tLoss: 1.63484859\tAcc: 34.38%\tTime: 0.217978\n",
      "Epoch: 16 [1224/2443 (50%)]\tLoss: 1.05623519\tAcc: 54.17%\tTime: 0.220896\n",
      "Epoch: 16 [1832/2443 (75%)]\tLoss: 1.17542720\tAcc: 50.00%\tTime: 0.216434\n",
      "Epoch: 16 [2443/2443 (100%)]\tEpoch Loss: 1.14278433\tEpoch Acc: 52.54%\tEpoch Time: 72.391730\n",
      "Epoch: 17 [616/2443 (25%)]\tLoss: 0.96454537\tAcc: 57.29%\tTime: 0.222725\n",
      "Epoch: 17 [1224/2443 (50%)]\tLoss: 0.63542324\tAcc: 69.79%\tTime: 0.220191\n",
      "Epoch: 17 [1832/2443 (75%)]\tLoss: 1.33265448\tAcc: 43.75%\tTime: 0.216728\n",
      "Epoch: 17 [2443/2443 (100%)]\tEpoch Loss: 1.10805775\tEpoch Acc: 53.97%\tEpoch Time: 72.910715\n",
      "Epoch: 18 [616/2443 (25%)]\tLoss: 0.74440432\tAcc: 69.79%\tTime: 0.220322\n",
      "Epoch: 18 [1224/2443 (50%)]\tLoss: 0.97178531\tAcc: 56.25%\tTime: 0.223540\n",
      "Epoch: 18 [1832/2443 (75%)]\tLoss: 0.76656926\tAcc: 72.92%\tTime: 0.220823\n",
      "Epoch: 18 [2443/2443 (100%)]\tEpoch Loss: 1.11767304\tEpoch Acc: 53.48%\tEpoch Time: 72.624219\n"
     ]
    }
   ],
   "source": [
    "for epoch in range(19):\n",
    "    l, a = train(model, epoch, optimizer, full_loader) # train_loader\n",
    "    loss_cpc.append(l)\n",
    "    acc_cpc.append(a)"
   ]
  },
  {
   "cell_type": "code",
   "execution_count": 45,
   "metadata": {},
   "outputs": [
    {
     "data": {
      "text/plain": [
       "(1.0398449411157702, 0.5635587431856843)"
      ]
     },
     "execution_count": 45,
     "metadata": {},
     "output_type": "execute_result"
    },
    {
     "data": {
      "image/png": "[encoded data removed]",
      "text/plain": [
       "<Figure size 1152x576 with 2 Axes>"
      ]
     },
     "metadata": {
      "needs_background": "light"
     },
     "output_type": "display_data"
    }
   ],
   "source": [
    "fig, (ax1, ax2) = plt.subplots(1, 2, figsize=(16, 8))\n",
    "ax1.plot(np.arange(len(loss_cpc)), loss_cpc)\n",
    "ax1.set_xlabel('Epochs', fontsize=15)\n",
    "ax1.set_ylabel('Loss', fontsize=15)\n",
    "ax1.tick_params(axis='both', which='major', labelsize=14)\n",
    "ax2.plot(np.arange(len(acc_cpc)), acc_cpc)\n",
    "ax2.set_xlabel('Epochs', fontsize=15)\n",
    "ax2.set_ylabel('Accuracy', fontsize=15)\n",
    "ax2.tick_params(axis='both', which='major', labelsize=14)\n",
    "#fig.suptitle('CPC training metrics', fontsize=16)\n",
    "loss_cpc[-1], acc_cpc[-1]"
   ]
  },
  {
   "cell_type": "code",
   "execution_count": 46,
   "metadata": {},
   "outputs": [],
   "source": [
    "# save_model(model, optimizer, loss_cpc, [acc_cpc], CHECKPOINT_PATH + 'cpc_checkpoint_temp_stacked.pt')"
   ]
  },
  {
   "cell_type": "code",
   "execution_count": null,
   "metadata": {},
   "outputs": [],
   "source": [
    "# if False: # faster than commenting out - switch to True to load\n",
    "if True:\n",
    "    loaded_state = load_model(model, optimizer, CHECKPOINT_PATH + 'cpc_checkpoint_temp.pt')\n",
    "    loss_cpc = loaded_state['loss']\n",
    "    acc_cpc = loaded_state['metrics'][0]\n",
    "    del loaded_state"
   ]
  },
  {
   "cell_type": "markdown",
   "metadata": {},
   "source": [
    "## Training - Downstream\n",
    "\n",
    "Actual training of the downstream model(s)."
   ]
  },
  {
   "cell_type": "markdown",
   "metadata": {},
   "source": [
    "### Aliveness"
   ]
  },
  {
   "cell_type": "code",
   "execution_count": 55,
   "metadata": {},
   "outputs": [],
   "source": [
    "downstream_model = AlivenessEstimator(256, 1).to(DEVICE)\n",
    "downstream_optimizer = torch.optim.Adam(downstream_model.parameters())\n",
    "downstream_loss = nn.MSELoss()"
   ]
  },
  {
   "cell_type": "code",
   "execution_count": 56,
   "metadata": {},
   "outputs": [],
   "source": [
    "loss_hist_downstream = []\n",
    "second_metric_hist_downstream = []"
   ]
  },
  {
   "cell_type": "code",
   "execution_count": 57,
   "metadata": {},
   "outputs": [
    {
     "ename": "RuntimeError",
     "evalue": "mat1 dim 1 must match mat2 dim 0",
     "output_type": "error",
     "traceback": [
      "\u001b[0;31m---------------------------------------------------------------------------\u001b[0m",
      "\u001b[0;31mRuntimeError\u001b[0m                              Traceback (most recent call last)",
      "\u001b[0;32m<ipython-input-57-2b1abd0b5adf>\u001b[0m in \u001b[0;36m<module>\u001b[0;34m\u001b[0m\n\u001b[1;32m      1\u001b[0m \u001b[0;32mfor\u001b[0m \u001b[0mepoch\u001b[0m \u001b[0;32min\u001b[0m \u001b[0mrange\u001b[0m\u001b[0;34m(\u001b[0m\u001b[0;36m10\u001b[0m\u001b[0;34m)\u001b[0m\u001b[0;34m:\u001b[0m\u001b[0;34m\u001b[0m\u001b[0;34m\u001b[0m\u001b[0m\n\u001b[0;32m----> 2\u001b[0;31m     \u001b[0ml\u001b[0m\u001b[0;34m,\u001b[0m \u001b[0ma\u001b[0m \u001b[0;34m=\u001b[0m \u001b[0mtrain_estimator\u001b[0m\u001b[0;34m(\u001b[0m\u001b[0mmodel\u001b[0m\u001b[0;34m,\u001b[0m \u001b[0mdownstream_model\u001b[0m\u001b[0;34m,\u001b[0m \u001b[0;34m'lifespan'\u001b[0m\u001b[0;34m,\u001b[0m \u001b[0mdownstream_optimizer\u001b[0m\u001b[0;34m,\u001b[0m \u001b[0mdownstream_loss\u001b[0m\u001b[0;34m,\u001b[0m \u001b[0mepoch\u001b[0m\u001b[0;34m,\u001b[0m \u001b[0mtrain_loader\u001b[0m\u001b[0;34m,\u001b[0m \u001b[0;36m128\u001b[0m\u001b[0;34m)\u001b[0m\u001b[0;34m\u001b[0m\u001b[0;34m\u001b[0m\u001b[0m\n\u001b[0m\u001b[1;32m      3\u001b[0m     \u001b[0mloss_hist_downstream\u001b[0m\u001b[0;34m.\u001b[0m\u001b[0mappend\u001b[0m\u001b[0;34m(\u001b[0m\u001b[0ml\u001b[0m\u001b[0;34m)\u001b[0m\u001b[0;34m\u001b[0m\u001b[0;34m\u001b[0m\u001b[0m\n\u001b[1;32m      4\u001b[0m     \u001b[0msecond_metric_hist_downstream\u001b[0m\u001b[0;34m.\u001b[0m\u001b[0mappend\u001b[0m\u001b[0;34m(\u001b[0m\u001b[0ma\u001b[0m\u001b[0;34m)\u001b[0m\u001b[0;34m\u001b[0m\u001b[0;34m\u001b[0m\u001b[0m\n",
      "\u001b[0;32m<ipython-input-22-203da6befd00>\u001b[0m in \u001b[0;36mtrain_estimator\u001b[0;34m(cpc_model, downstream_model, downstream_key, optimizer, loss_fn, epoch, data_loader, ctx_size)\u001b[0m\n\u001b[1;32m     45\u001b[0m         \u001b[0mc_t\u001b[0m \u001b[0;34m=\u001b[0m \u001b[0mc\u001b[0m\u001b[0;34m.\u001b[0m\u001b[0mto\u001b[0m\u001b[0;34m(\u001b[0m\u001b[0mDEVICE\u001b[0m\u001b[0;34m)\u001b[0m\u001b[0;34m\u001b[0m\u001b[0;34m\u001b[0m\u001b[0m\n\u001b[1;32m     46\u001b[0m         \u001b[0my\u001b[0m \u001b[0;34m=\u001b[0m \u001b[0my\u001b[0m\u001b[0;34m.\u001b[0m\u001b[0mto\u001b[0m\u001b[0;34m(\u001b[0m\u001b[0mDEVICE\u001b[0m\u001b[0;34m)\u001b[0m\u001b[0;34m\u001b[0m\u001b[0;34m\u001b[0m\u001b[0m\n\u001b[0;32m---> 47\u001b[0;31m         \u001b[0moutput\u001b[0m \u001b[0;34m=\u001b[0m \u001b[0mdownstream_model\u001b[0m\u001b[0;34m(\u001b[0m\u001b[0mc_t\u001b[0m\u001b[0;34m)\u001b[0m\u001b[0;34m\u001b[0m\u001b[0;34m\u001b[0m\u001b[0m\n\u001b[0m\u001b[1;32m     48\u001b[0m \u001b[0;31m#         print(output)\u001b[0m\u001b[0;34m\u001b[0m\u001b[0;34m\u001b[0m\u001b[0;34m\u001b[0m\u001b[0m\n\u001b[1;32m     49\u001b[0m \u001b[0;34m\u001b[0m\u001b[0m\n",
      "\u001b[0;32m~/.conda/envs/py37bn16/lib/python3.7/site-packages/torch/nn/modules/module.py\u001b[0m in \u001b[0;36m_call_impl\u001b[0;34m(self, *input, **kwargs)\u001b[0m\n\u001b[1;32m    725\u001b[0m             \u001b[0mresult\u001b[0m \u001b[0;34m=\u001b[0m \u001b[0mself\u001b[0m\u001b[0;34m.\u001b[0m\u001b[0m_slow_forward\u001b[0m\u001b[0;34m(\u001b[0m\u001b[0;34m*\u001b[0m\u001b[0minput\u001b[0m\u001b[0;34m,\u001b[0m \u001b[0;34m**\u001b[0m\u001b[0mkwargs\u001b[0m\u001b[0;34m)\u001b[0m\u001b[0;34m\u001b[0m\u001b[0;34m\u001b[0m\u001b[0m\n\u001b[1;32m    726\u001b[0m         \u001b[0;32melse\u001b[0m\u001b[0;34m:\u001b[0m\u001b[0;34m\u001b[0m\u001b[0;34m\u001b[0m\u001b[0m\n\u001b[0;32m--> 727\u001b[0;31m             \u001b[0mresult\u001b[0m \u001b[0;34m=\u001b[0m \u001b[0mself\u001b[0m\u001b[0;34m.\u001b[0m\u001b[0mforward\u001b[0m\u001b[0;34m(\u001b[0m\u001b[0;34m*\u001b[0m\u001b[0minput\u001b[0m\u001b[0;34m,\u001b[0m \u001b[0;34m**\u001b[0m\u001b[0mkwargs\u001b[0m\u001b[0;34m)\u001b[0m\u001b[0;34m\u001b[0m\u001b[0;34m\u001b[0m\u001b[0m\n\u001b[0m\u001b[1;32m    728\u001b[0m         for hook in itertools.chain(\n\u001b[1;32m    729\u001b[0m                 \u001b[0m_global_forward_hooks\u001b[0m\u001b[0;34m.\u001b[0m\u001b[0mvalues\u001b[0m\u001b[0;34m(\u001b[0m\u001b[0;34m)\u001b[0m\u001b[0;34m,\u001b[0m\u001b[0;34m\u001b[0m\u001b[0;34m\u001b[0m\u001b[0m\n",
      "\u001b[0;32m<ipython-input-20-af70f733055f>\u001b[0m in \u001b[0;36mforward\u001b[0;34m(self, x)\u001b[0m\n\u001b[1;32m     10\u001b[0m \u001b[0;34m\u001b[0m\u001b[0m\n\u001b[1;32m     11\u001b[0m     \u001b[0;32mdef\u001b[0m \u001b[0mforward\u001b[0m\u001b[0;34m(\u001b[0m\u001b[0mself\u001b[0m\u001b[0;34m,\u001b[0m \u001b[0mx\u001b[0m\u001b[0;34m)\u001b[0m\u001b[0;34m:\u001b[0m\u001b[0;34m\u001b[0m\u001b[0;34m\u001b[0m\u001b[0m\n\u001b[0;32m---> 12\u001b[0;31m         \u001b[0;32mreturn\u001b[0m \u001b[0mself\u001b[0m\u001b[0;34m.\u001b[0m\u001b[0mlinear\u001b[0m\u001b[0;34m(\u001b[0m\u001b[0mx\u001b[0m\u001b[0;34m)\u001b[0m\u001b[0;34m\u001b[0m\u001b[0;34m\u001b[0m\u001b[0m\n\u001b[0m\u001b[1;32m     13\u001b[0m \u001b[0;34m\u001b[0m\u001b[0m\n\u001b[1;32m     14\u001b[0m     \u001b[0;32mdef\u001b[0m \u001b[0mpredict\u001b[0m\u001b[0;34m(\u001b[0m\u001b[0mself\u001b[0m\u001b[0;34m,\u001b[0m \u001b[0mx\u001b[0m\u001b[0;34m)\u001b[0m\u001b[0;34m:\u001b[0m\u001b[0;34m\u001b[0m\u001b[0;34m\u001b[0m\u001b[0m\n",
      "\u001b[0;32m~/.conda/envs/py37bn16/lib/python3.7/site-packages/torch/nn/modules/module.py\u001b[0m in \u001b[0;36m_call_impl\u001b[0;34m(self, *input, **kwargs)\u001b[0m\n\u001b[1;32m    725\u001b[0m             \u001b[0mresult\u001b[0m \u001b[0;34m=\u001b[0m \u001b[0mself\u001b[0m\u001b[0;34m.\u001b[0m\u001b[0m_slow_forward\u001b[0m\u001b[0;34m(\u001b[0m\u001b[0;34m*\u001b[0m\u001b[0minput\u001b[0m\u001b[0;34m,\u001b[0m \u001b[0;34m**\u001b[0m\u001b[0mkwargs\u001b[0m\u001b[0;34m)\u001b[0m\u001b[0;34m\u001b[0m\u001b[0;34m\u001b[0m\u001b[0m\n\u001b[1;32m    726\u001b[0m         \u001b[0;32melse\u001b[0m\u001b[0;34m:\u001b[0m\u001b[0;34m\u001b[0m\u001b[0;34m\u001b[0m\u001b[0m\n\u001b[0;32m--> 727\u001b[0;31m             \u001b[0mresult\u001b[0m \u001b[0;34m=\u001b[0m \u001b[0mself\u001b[0m\u001b[0;34m.\u001b[0m\u001b[0mforward\u001b[0m\u001b[0;34m(\u001b[0m\u001b[0;34m*\u001b[0m\u001b[0minput\u001b[0m\u001b[0;34m,\u001b[0m \u001b[0;34m**\u001b[0m\u001b[0mkwargs\u001b[0m\u001b[0;34m)\u001b[0m\u001b[0;34m\u001b[0m\u001b[0;34m\u001b[0m\u001b[0m\n\u001b[0m\u001b[1;32m    728\u001b[0m         for hook in itertools.chain(\n\u001b[1;32m    729\u001b[0m                 \u001b[0m_global_forward_hooks\u001b[0m\u001b[0;34m.\u001b[0m\u001b[0mvalues\u001b[0m\u001b[0;34m(\u001b[0m\u001b[0;34m)\u001b[0m\u001b[0;34m,\u001b[0m\u001b[0;34m\u001b[0m\u001b[0;34m\u001b[0m\u001b[0m\n",
      "\u001b[0;32m~/.conda/envs/py37bn16/lib/python3.7/site-packages/torch/nn/modules/linear.py\u001b[0m in \u001b[0;36mforward\u001b[0;34m(self, input)\u001b[0m\n\u001b[1;32m     91\u001b[0m \u001b[0;34m\u001b[0m\u001b[0m\n\u001b[1;32m     92\u001b[0m     \u001b[0;32mdef\u001b[0m \u001b[0mforward\u001b[0m\u001b[0;34m(\u001b[0m\u001b[0mself\u001b[0m\u001b[0;34m,\u001b[0m \u001b[0minput\u001b[0m\u001b[0;34m:\u001b[0m \u001b[0mTensor\u001b[0m\u001b[0;34m)\u001b[0m \u001b[0;34m->\u001b[0m \u001b[0mTensor\u001b[0m\u001b[0;34m:\u001b[0m\u001b[0;34m\u001b[0m\u001b[0;34m\u001b[0m\u001b[0m\n\u001b[0;32m---> 93\u001b[0;31m         \u001b[0;32mreturn\u001b[0m \u001b[0mF\u001b[0m\u001b[0;34m.\u001b[0m\u001b[0mlinear\u001b[0m\u001b[0;34m(\u001b[0m\u001b[0minput\u001b[0m\u001b[0;34m,\u001b[0m \u001b[0mself\u001b[0m\u001b[0;34m.\u001b[0m\u001b[0mweight\u001b[0m\u001b[0;34m,\u001b[0m \u001b[0mself\u001b[0m\u001b[0;34m.\u001b[0m\u001b[0mbias\u001b[0m\u001b[0;34m)\u001b[0m\u001b[0;34m\u001b[0m\u001b[0;34m\u001b[0m\u001b[0m\n\u001b[0m\u001b[1;32m     94\u001b[0m \u001b[0;34m\u001b[0m\u001b[0m\n\u001b[1;32m     95\u001b[0m     \u001b[0;32mdef\u001b[0m \u001b[0mextra_repr\u001b[0m\u001b[0;34m(\u001b[0m\u001b[0mself\u001b[0m\u001b[0;34m)\u001b[0m \u001b[0;34m->\u001b[0m \u001b[0mstr\u001b[0m\u001b[0;34m:\u001b[0m\u001b[0;34m\u001b[0m\u001b[0;34m\u001b[0m\u001b[0m\n",
      "\u001b[0;32m~/.conda/envs/py37bn16/lib/python3.7/site-packages/torch/nn/functional.py\u001b[0m in \u001b[0;36mlinear\u001b[0;34m(input, weight, bias)\u001b[0m\n\u001b[1;32m   1688\u001b[0m     \u001b[0;32mif\u001b[0m \u001b[0minput\u001b[0m\u001b[0;34m.\u001b[0m\u001b[0mdim\u001b[0m\u001b[0;34m(\u001b[0m\u001b[0;34m)\u001b[0m \u001b[0;34m==\u001b[0m \u001b[0;36m2\u001b[0m \u001b[0;32mand\u001b[0m \u001b[0mbias\u001b[0m \u001b[0;32mis\u001b[0m \u001b[0;32mnot\u001b[0m \u001b[0;32mNone\u001b[0m\u001b[0;34m:\u001b[0m\u001b[0;34m\u001b[0m\u001b[0;34m\u001b[0m\u001b[0m\n\u001b[1;32m   1689\u001b[0m         \u001b[0;31m# fused op is marginally faster\u001b[0m\u001b[0;34m\u001b[0m\u001b[0;34m\u001b[0m\u001b[0;34m\u001b[0m\u001b[0m\n\u001b[0;32m-> 1690\u001b[0;31m         \u001b[0mret\u001b[0m \u001b[0;34m=\u001b[0m \u001b[0mtorch\u001b[0m\u001b[0;34m.\u001b[0m\u001b[0maddmm\u001b[0m\u001b[0;34m(\u001b[0m\u001b[0mbias\u001b[0m\u001b[0;34m,\u001b[0m \u001b[0minput\u001b[0m\u001b[0;34m,\u001b[0m \u001b[0mweight\u001b[0m\u001b[0;34m.\u001b[0m\u001b[0mt\u001b[0m\u001b[0;34m(\u001b[0m\u001b[0;34m)\u001b[0m\u001b[0;34m)\u001b[0m\u001b[0;34m\u001b[0m\u001b[0;34m\u001b[0m\u001b[0m\n\u001b[0m\u001b[1;32m   1691\u001b[0m     \u001b[0;32melse\u001b[0m\u001b[0;34m:\u001b[0m\u001b[0;34m\u001b[0m\u001b[0;34m\u001b[0m\u001b[0m\n\u001b[1;32m   1692\u001b[0m         \u001b[0moutput\u001b[0m \u001b[0;34m=\u001b[0m \u001b[0minput\u001b[0m\u001b[0;34m.\u001b[0m\u001b[0mmatmul\u001b[0m\u001b[0;34m(\u001b[0m\u001b[0mweight\u001b[0m\u001b[0;34m.\u001b[0m\u001b[0mt\u001b[0m\u001b[0;34m(\u001b[0m\u001b[0;34m)\u001b[0m\u001b[0;34m)\u001b[0m\u001b[0;34m\u001b[0m\u001b[0;34m\u001b[0m\u001b[0m\n",
      "\u001b[0;31mRuntimeError\u001b[0m: mat1 dim 1 must match mat2 dim 0"
     ]
    }
   ],
   "source": [
    "for epoch in range(10):\n",
    "    l, a = train_estimator(model, downstream_model, 'lifespan', downstream_optimizer, downstream_loss, epoch, train_loader, 128)\n",
    "    loss_hist_downstream.append(l)\n",
    "    second_metric_hist_downstream.append(a)"
   ]
  },
  {
   "cell_type": "code",
   "execution_count": null,
   "metadata": {},
   "outputs": [],
   "source": [
    "fig, (ax1, ax2) = plt.subplots(1, 2, figsize=(16, 8))\n",
    "ax1.plot(np.arange(len(loss_hist_downstream)), loss_hist_downstream, linewidth=2)\n",
    "ax1.set_xlabel('Epochs', fontsize=15)\n",
    "ax1.set_ylabel('MSE Loss in $1 \\cdot 10^5$', fontsize=15)\n",
    "ax1.tick_params(axis='both', which='major', labelsize=14)\n",
    "ax1.ticklabel_format(axis='y', style='sci', scilimits=(0,0), useOffset=True, useMathText=True)\n",
    "ax2.plot(np.arange(len(second_metric_hist_downstream)), second_metric_hist_downstream, linewidth=2)\n",
    "ax2.set_xlabel('Epochs', fontsize=15)\n",
    "ax2.set_ylabel('MAE Loss', fontsize=15)\n",
    "ax2.tick_params(axis='both', which='major', labelsize=14)\n",
    "#fig.suptitle('Aliveness estimation training metrics', fontsize=16)\n",
    "plt.show()\n",
    "loss_hist_downstream[-1], second_metric_hist_downstream[-1]"
   ]
  },
  {
   "cell_type": "code",
   "execution_count": null,
   "metadata": {},
   "outputs": [],
   "source": [
    "# save_model(downstream_model, downstream_optimizer, loss_hist_downstream, [second_metric_hist_downstream], CHECKPOINT_PATH_DOWNSTREAM + 'ds_checkpoint_alive_temp.pt')"
   ]
  },
  {
   "cell_type": "code",
   "execution_count": null,
   "metadata": {},
   "outputs": [],
   "source": [
    "if False: # faster than commenting out - switch to True to load\n",
    "# if True:\n",
    "    loaded_state = load_model(downstream_model, downstream_optimizer, CHECKPOINT_PATH_DOWNSTREAM + 'ds_checkpoint_alive_64_128.pt')\n",
    "    loss_hist_downstream = loaded_state['loss']\n",
    "    second_metric_hist_downstream = loaded_state['metrics'][0]\n",
    "    del loaded_state"
   ]
  },
  {
   "cell_type": "markdown",
   "metadata": {},
   "source": [
    "### Circadian"
   ]
  },
  {
   "cell_type": "code",
   "execution_count": null,
   "metadata": {},
   "outputs": [],
   "source": [
    "downstream_model = CircadianEstimator(64, 1).to(DEVICE)\n",
    "downstream_optimizer = torch.optim.Adam(downstream_model.parameters())\n",
    "downstream_loss = nn.MSELoss()"
   ]
  },
  {
   "cell_type": "code",
   "execution_count": null,
   "metadata": {},
   "outputs": [],
   "source": [
    "loss_hist_downstream = []\n",
    "second_metric_hist_downstream = []"
   ]
  },
  {
   "cell_type": "code",
   "execution_count": null,
   "metadata": {},
   "outputs": [],
   "source": [
    "for epoch in range(5):\n",
    "    l, a = train_estimator(model, downstream_model, 'circadian', downstream_optimizer, downstream_loss, epoch, train_loader, 64)\n",
    "    loss_hist_downstream.append(l)\n",
    "    second_metric_hist_downstream.append(a)"
   ]
  },
  {
   "cell_type": "code",
   "execution_count": null,
   "metadata": {},
   "outputs": [],
   "source": [
    "fig, (ax1, ax2) = plt.subplots(1, 2, figsize=(16, 8))\n",
    "ax1.plot(np.arange(len(loss_hist_downstream)), loss_hist_downstream)\n",
    "ax1.set_xlabel('Epochs', fontsize=15)\n",
    "ax1.set_ylabel('MSE Loss', fontsize=15)\n",
    "ax1.tick_params(axis='both', which='major', labelsize=14)\n",
    "ax2.plot(np.arange(len(second_metric_hist_downstream)), second_metric_hist_downstream)\n",
    "ax2.set_xlabel('Epochs', fontsize=15)\n",
    "ax2.set_ylabel('MAE Loss', fontsize=15)\n",
    "ax2.tick_params(axis='both', which='major', labelsize=14)\n",
    "#fig.suptitle('Circadian estimation training metrics', fontsize=16)\n",
    "loss_hist_downstream[-1], second_metric_hist_downstream[-1]"
   ]
  },
  {
   "cell_type": "code",
   "execution_count": null,
   "metadata": {},
   "outputs": [],
   "source": [
    "save_model(downstream_model, downstream_optimizer, loss_hist_downstream, [second_metric_hist_downstream], CHECKPOINT_PATH_DOWNSTREAM + 'ds_circadian_pos_64_128.pt')"
   ]
  },
  {
   "cell_type": "code",
   "execution_count": null,
   "metadata": {},
   "outputs": [],
   "source": [
    "if False: # faster than commenting out - switch to True to load\n",
    "# if True:\n",
    "    loaded_state = load_model(downstream_model, downstream_optimizer, CHECKPOINT_PATH_DOWNSTREAM + 'ds_circadian_pos_64_128.pt')\n",
    "    loss_hist_downstream = loaded_state['loss']\n",
    "    second_metric_hist_downstream = loaded_state['metrics'][0]\n",
    "    del loaded_state"
   ]
  },
  {
   "cell_type": "markdown",
   "metadata": {},
   "source": [
    "# Evaluation\n",
    "\n",
    "A full evaluation would calculate the MSE for each time step for each individual. For now, we'll do a quick eval for some fixed steps.\n",
    "\n",
    "$R^2 = 1 - \\frac{\\sum(y - \\hat{y})^2}{\\sum(y - \\bar{y})^2} = 1 - \\frac{\\sum{y - \\hat{y}}^2}{\\sum{y^2} - \\frac{1}{n} \\cdot (\\sum{y})^2}$\n",
    "(Steiner)"
   ]
  },
  {
   "cell_type": "code",
   "execution_count": null,
   "metadata": {},
   "outputs": [],
   "source": [
    "def validate(cpc_model, downstream_model, downstream_key, data_loader):\n",
    "    cpc_model.to(DEVICE)\n",
    "    cpc_model.eval()\n",
    "    downstream_model.to(DEVICE)\n",
    "    downstream_model.eval()\n",
    "\n",
    "    downstream_mse = []\n",
    "    downstream_mae = []\n",
    "\n",
    "    time_steps_to_check = range(420)\n",
    "    \n",
    "    # for R²\n",
    "    n = 420 * BATCH_SIZE * len(data_loader) # 35 days á 48 steps x samples per batch x num batches\n",
    "    sum_of_errors = 0\n",
    "    y_sum = 0\n",
    "    y_sq_sum = 0\n",
    "\n",
    "    for batch_idx, (x, y) in enumerate(data_loader):\n",
    "        # add channel dim\n",
    "        x = x.unsqueeze(1).to(DEVICE)\n",
    "        y = y[downstream_key].to(DEVICE)\n",
    "        \n",
    "        inner_mse = []\n",
    "        inner_mae = []\n",
    "\n",
    "        # cpc output\n",
    "        output, c, hidden = cpc_model.predict(x)\n",
    "        \n",
    "#         if len(time_steps_to_check) == 1:\n",
    "#             time_steps_to_check += [int(c.shape[1] / x) for x in [10, 20, 30, 40, 50, 60, 70, 80, 90, 100]]\n",
    "\n",
    "        for step in time_steps_to_check:\n",
    "            c_t = c[:,step].contiguous().view((-1, 128)).to(DEVICE)\n",
    "            #y_t = y[:,step].to(DEVICE)\n",
    "            y_t = get_temp_y(y, step).to(DEVICE)\n",
    "                \n",
    "            # classifier fwd\n",
    "            output = downstream_model.predict(c_t).squeeze()\n",
    "            \n",
    "            inner_mse.append(F.mse_loss(output, y_t, reduction='mean'))\n",
    "            inner_mae.append(F.l1_loss(output, y_t, reduction='mean'))\n",
    "            # for R²\n",
    "            sum_of_errors += torch.sum(torch.pow(y_t - output, 2)).item()\n",
    "            y_sum += torch.sum(y_t).item()\n",
    "            y_sq_sum += torch.sum(torch.pow(y_t, 2)).item()\n",
    "\n",
    "        downstream_mse.append(torch.mean(torch.tensor(inner_mse, dtype=torch.float64)))\n",
    "        downstream_mae.append(torch.mean(torch.tensor(inner_mae, dtype=torch.float64)))\n",
    "\n",
    "    # MSE, MAE, R²\n",
    "    return (\n",
    "        torch.mean(torch.tensor(downstream_mse, dtype=torch.float64)).item(), \n",
    "        torch.mean(torch.tensor(downstream_mae, dtype=torch.float64)).item(),\n",
    "        1 - sum_of_errors / (y_sq_sum - (y_sum ** 2) / n)\n",
    "    )"
   ]
  },
  {
   "cell_type": "code",
   "execution_count": null,
   "metadata": {},
   "outputs": [],
   "source": [
    "validate(model, downstream_model, 'lifespan', test_loader)"
   ]
  },
  {
   "cell_type": "code",
   "execution_count": null,
   "metadata": {},
   "outputs": [],
   "source": [
    "validate(model, downstream_model, 'circadian', test_loader)"
   ]
  },
  {
   "cell_type": "markdown",
   "metadata": {},
   "source": [
    "The mean life time of an individual is 18 steps. Let's compare our validation to this baseline as well as to always predicting zero to get a feeling if our prediction is any good."
   ]
  },
  {
   "cell_type": "code",
   "execution_count": null,
   "metadata": {},
   "outputs": [],
   "source": [
    "def val_baselines(data_loader, downstream_key):\n",
    "    baseline_mse_0 = []\n",
    "    baseline_mae_0 = []\n",
    "    baseline_mse_mean = []\n",
    "    baseline_mae_mean = []\n",
    "    \n",
    "    baseline_0 = torch.zeros([8])\n",
    "    baseline_mean = torch.as_tensor(np.array([18 * 2] * 8))\n",
    "\n",
    "    #time_steps_to_check = [1] + [int(1680 / x) for x in [10, 20, 30, 40, 50, 60, 70, 80, 90, 100]]\n",
    "    time_steps_to_check = range(1680)\n",
    "    \n",
    "    # for R²\n",
    "    n = 1680 * BATCH_SIZE * len(data_loader) # 35 days á 48 steps x samples per batch x num batches\n",
    "    sum_of_errors = 0\n",
    "    y_sum = 0\n",
    "    y_sq_sum = 0\n",
    "\n",
    "    for batch_idx, (x, y) in enumerate(data_loader):\n",
    "        y = y[downstream_key]\n",
    "        \n",
    "        inner_mse_0 = []\n",
    "        inner_mae_0 = []\n",
    "        inner_mse_mean = []\n",
    "        inner_mae_mean = []\n",
    "        \n",
    "        for step in time_steps_to_check:\n",
    "            y_t = y[:,step]\n",
    "            inner_mse_0.append(F.mse_loss(baseline_0, y_t, reduction='mean'))\n",
    "            inner_mae_0.append(F.l1_loss(baseline_0, y_t, reduction='mean'))\n",
    "            inner_mse_mean.append(F.mse_loss(baseline_mean, y_t, reduction='mean'))\n",
    "            inner_mae_mean.append(F.l1_loss(baseline_mean, y_t, reduction='mean'))\n",
    "            # for R²\n",
    "            sum_of_errors += torch.sum(torch.pow(y_t, 2)).item()\n",
    "            y_sum += torch.sum(y_t).item()\n",
    "            y_sq_sum += torch.sum(torch.pow(y_t, 2)).item()\n",
    "\n",
    "        baseline_mse_0.append(torch.mean(torch.tensor(inner_mse_0, dtype=torch.float64)))\n",
    "        baseline_mae_0.append(torch.mean(torch.tensor(inner_mae_0, dtype=torch.float64)))\n",
    "        baseline_mse_mean.append(torch.mean(torch.tensor(inner_mse_mean, dtype=torch.float64)))\n",
    "        baseline_mae_mean.append(torch.mean(torch.tensor(inner_mae_mean, dtype=torch.float64)))\n",
    "\n",
    "    print (\n",
    "        torch.mean(torch.tensor(baseline_mse_0, dtype=torch.float64)).item(),\n",
    "        torch.mean(torch.tensor(baseline_mae_0, dtype=torch.float64)).item(),\n",
    "        torch.mean(torch.tensor(baseline_mse_mean, dtype=torch.float64)).item(),\n",
    "        torch.mean(torch.tensor(baseline_mae_mean, dtype=torch.float64)).item(),\n",
    "        1 - sum_of_errors / (y_sq_sum - (y_sum ** 2) / n)\n",
    "    )\n",
    "    return baseline_mae_0, baseline_mae_mean"
   ]
  },
  {
   "cell_type": "code",
   "execution_count": null,
   "metadata": {},
   "outputs": [],
   "source": [
    "mae_0, mae_mean = val_baselines(test_loader, 'circadian')"
   ]
  },
  {
   "cell_type": "code",
   "execution_count": null,
   "metadata": {},
   "outputs": [],
   "source": [
    "pd.DataFrame(mae_0).plot()\n",
    "pd.DataFrame(mae_mean).plot()"
   ]
  },
  {
   "cell_type": "markdown",
   "metadata": {},
   "source": [
    "## CNNs\n",
    "\n",
    "What did our CNN learn? How do the weights look?"
   ]
  },
  {
   "cell_type": "code",
   "execution_count": null,
   "metadata": {},
   "outputs": [],
   "source": [
    "# model = CPC(N_STEPS, BATCH_SIZE, hidden_size=64, context_size=128)\n",
    "# load_model(model, optimizer, CHECKPOINT_PATH + 'cpc_checkpoint_nbh_64_128.pt')\n",
    "model.to('cpu')\n",
    "cnn_params = model.g_enc[0].weight.data\n",
    "\n",
    "print(cnn_params.shape)"
   ]
  },
  {
   "cell_type": "code",
   "execution_count": null,
   "metadata": {},
   "outputs": [],
   "source": [
    "#pd.DataFrame(cnn_params[0].squeeze().numpy()).plot(figsize=(14,4), legend=False)\n",
    "fig, (ax1, ax2, ax3, ax4) = plt.subplots(1, 4, figsize=(18, 8))\n",
    "ax1.matshow(cnn_params[0].squeeze())\n",
    "ax2.matshow(cnn_params[1].squeeze())\n",
    "ax3.matshow(cnn_params[2].squeeze())\n",
    "ax4.matshow(cnn_params[3].squeeze())\n",
    "plt.show()"
   ]
  },
  {
   "cell_type": "code",
   "execution_count": null,
   "metadata": {},
   "outputs": [],
   "source": [
    "fig, ax = plt.subplots(8, 8, figsize=(20, 20))\n",
    "for a in range(8):\n",
    "    for b in range(8):\n",
    "        ax[a][b].matshow(cnn_params[a * 8 + b].squeeze())\n",
    "plt.show()"
   ]
  },
  {
   "cell_type": "code",
   "execution_count": null,
   "metadata": {},
   "outputs": [],
   "source": [
    "fig, axes = plt.subplots(32, 1, figsize=(18, 10))\n",
    "vmin = cnn_params.min().item()\n",
    "vmax = cnn_params.max().item()\n",
    "for i in range(len(axes)):\n",
    "    im = axes[i].imshow(cnn_params.squeeze().numpy()[i:i+1], cmap='hot', interpolation='nearest', aspect='auto', vmin=vmin, vmax=vmax)\n",
    "    axes[i].tick_params(labelcolor='none', bottom=False, left=False, labelbottom=False, labelleft=False)\n",
    "axes[-1].tick_params(axis='both', bottom=True, labelbottom=True, labelcolor='black')\n",
    "axes[-1].set_xlabel('Filter weights for individual', fontsize=25)\n",
    "axes[16].set_ylabel('Filter', fontsize=25)\n",
    "axes[-1].tick_params(axis='x', which='major', labelsize=15)\n",
    "\n",
    "fig.subplots_adjust(right=0.8)\n",
    "cbar_ax = fig.add_axes([0.85, 0.15, 0.05, 0.7])\n",
    "fig.colorbar(im, cax=cbar_ax)\n",
    "# fig.suptitle('CNN kernel weights heatmap', fontsize=24)\n",
    "\n",
    "plt.show()"
   ]
  },
  {
   "cell_type": "code",
   "execution_count": null,
   "metadata": {},
   "outputs": [],
   "source": [
    "fig, axes = plt.subplots(5, 1, figsize=(18, 18))\n",
    "vmin = cnn_params.min().item()\n",
    "vmax = cnn_params.max().item()\n",
    "for i in range(len(axes)):\n",
    "    im = axes[i].imshow(cnn_params.squeeze().numpy()[i:i+1], cmap='hot', interpolation='nearest', aspect='auto', vmin=vmin, vmax=vmax)\n",
    "    axes[i].tick_params(labelcolor='none', bottom=False, left=False, labelbottom=False, labelleft=False)\n",
    "axes[-1].tick_params(axis='both', bottom=True, labelbottom=True, labelcolor='black')\n",
    "axes[-1].set_xlabel('Filter weights for individual', fontsize=25)\n",
    "axes[len(axes) // 2].set_ylabel('Filter', fontsize=25)\n",
    "axes[-1].tick_params(axis='x', which='major', labelsize=16)\n",
    "\n",
    "fig.subplots_adjust(right=0.8)\n",
    "cbar_ax = fig.add_axes([0.85, 0.15, 0.05, 0.7])\n",
    "fig.colorbar(im, cax=cbar_ax)\n",
    "# fig.suptitle('CNN kernel weights heatmap for kernels 1-10', fontsize=30)\n",
    "\n",
    "plt.show()"
   ]
  },
  {
   "cell_type": "code",
   "execution_count": null,
   "metadata": {},
   "outputs": [],
   "source": [
    "cnn_params.squeeze().numpy()[0:1,:10]"
   ]
  },
  {
   "cell_type": "code",
   "execution_count": null,
   "metadata": {},
   "outputs": [],
   "source": [
    "fig, ax = plt.subplots(figsize=(16, 1))\n",
    "im = ax.imshow(cnn_params.squeeze().numpy()[0:1,:10], cmap='hot', interpolation='nearest', aspect='equal')\n",
    "ax.tick_params(labelcolor='none', bottom=False, left=False, labelbottom=False, labelleft=False)\n",
    "ax.set_xlabel('Filter weights for individual', fontsize=16)\n",
    "fig.colorbar(im)\n",
    "fig.show()"
   ]
  },
  {
   "cell_type": "code",
   "execution_count": null,
   "metadata": {},
   "outputs": [],
   "source": [
    "model.to(DEVICE)"
   ]
  },
  {
   "cell_type": "code",
   "execution_count": null,
   "metadata": {},
   "outputs": [],
   "source": [
    "gc.collect()\n",
    "torch.cuda.empty_cache()\n",
    "# torch.cuda.memory_summary(DEVICE)\n",
    "int(torch.cuda.memory_allocated(DEVICE) / 1000 / 1000)"
   ]
  }
 ],
 "metadata": {
  "accelerator": "GPU",
  "colab": {
   "collapsed_sections": [],
   "name": "CPC Librispeech.ipynb",
   "provenance": [],
   "toc_visible": true
  },
  "kernelspec": {
   "display_name": "Python 3",
   "language": "python",
   "name": "python3"
  },
  "language_info": {
   "codemirror_mode": {
    "name": "ipython",
    "version": 3
   },
   "file_extension": ".py",
   "mimetype": "text/x-python",
   "name": "python",
   "nbconvert_exporter": "python",
   "pygments_lexer": "ipython3",
   "version": "3.7.8"
  },
  "toc-autonumbering": true,
  "toc-showcode": false,
  "toc-showmarkdowntxt": false,
  "toc-showtags": false,
  "widgets": {
   "application/vnd.jupyter.widget-state+json": {
    "0156e8d0482540eca99e27edc2bdb261": {
     "model_module": "@jupyter-widgets/controls",
     "model_name": "ProgressStyleModel",
     "state": {
      "_model_module": "@jupyter-widgets/controls",
      "_model_module_version": "1.5.0",
      "_model_name": "ProgressStyleModel",
      "_view_count": null,
      "_view_module": "@jupyter-widgets/base",
      "_view_module_version": "1.2.0",
      "_view_name": "StyleView",
      "bar_color": null,
      "description_width": "initial"
     }
    },
    "3b80aa0abeba41d7891f8f6597058091": {
     "model_module": "@jupyter-widgets/base",
     "model_name": "LayoutModel",
     "state": {
      "_model_module": "@jupyter-widgets/base",
      "_model_module_version": "1.2.0",
      "_model_name": "LayoutModel",
      "_view_count": null,
      "_view_module": "@jupyter-widgets/base",
      "_view_module_version": "1.2.0",
      "_view_name": "LayoutView",
      "align_content": null,
      "align_items": null,
      "align_self": null,
      "border": null,
      "bottom": null,
      "display": null,
      "flex": null,
      "flex_flow": null,
      "grid_area": null,
      "grid_auto_columns": null,
      "grid_auto_flow": null,
      "grid_auto_rows": null,
      "grid_column": null,
      "grid_gap": null,
      "grid_row": null,
      "grid_template_areas": null,
      "grid_template_columns": null,
      "grid_template_rows": null,
      "height": null,
      "justify_content": null,
      "justify_items": null,
      "left": null,
      "margin": null,
      "max_height": null,
      "max_width": null,
      "min_height": null,
      "min_width": null,
      "object_fit": null,
      "object_position": null,
      "order": null,
      "overflow": null,
      "overflow_x": null,
      "overflow_y": null,
      "padding": null,
      "right": null,
      "top": null,
      "visibility": null,
      "width": null
     }
    },
    "589fa440f5934454b099db6e0aa8c850": {
     "model_module": "@jupyter-widgets/base",
     "model_name": "LayoutModel",
     "state": {
      "_model_module": "@jupyter-widgets/base",
      "_model_module_version": "1.2.0",
      "_model_name": "LayoutModel",
      "_view_count": null,
      "_view_module": "@jupyter-widgets/base",
      "_view_module_version": "1.2.0",
      "_view_name": "LayoutView",
      "align_content": null,
      "align_items": null,
      "align_self": null,
      "border": null,
      "bottom": null,
      "display": null,
      "flex": null,
      "flex_flow": null,
      "grid_area": null,
      "grid_auto_columns": null,
      "grid_auto_flow": null,
      "grid_auto_rows": null,
      "grid_column": null,
      "grid_gap": null,
      "grid_row": null,
      "grid_template_areas": null,
      "grid_template_columns": null,
      "grid_template_rows": null,
      "height": null,
      "justify_content": null,
      "justify_items": null,
      "left": null,
      "margin": null,
      "max_height": null,
      "max_width": null,
      "min_height": null,
      "min_width": null,
      "object_fit": null,
      "object_position": null,
      "order": null,
      "overflow": null,
      "overflow_x": null,
      "overflow_y": null,
      "padding": null,
      "right": null,
      "top": null,
      "visibility": null,
      "width": null
     }
    },
    "86c07288905449cbb1240186b334eef5": {
     "model_module": "@jupyter-widgets/controls",
     "model_name": "FloatProgressModel",
     "state": {
      "_dom_classes": [],
      "_model_module": "@jupyter-widgets/controls",
      "_model_module_version": "1.5.0",
      "_model_name": "FloatProgressModel",
      "_view_count": null,
      "_view_module": "@jupyter-widgets/controls",
      "_view_module_version": "1.5.0",
      "_view_name": "ProgressView",
      "bar_style": "success",
      "description": "100%",
      "description_tooltip": null,
      "layout": "IPY_MODEL_3b80aa0abeba41d7891f8f6597058091",
      "max": 6387309499,
      "min": 0,
      "orientation": "horizontal",
      "style": "IPY_MODEL_0156e8d0482540eca99e27edc2bdb261",
      "value": 6387309499
     }
    },
    "958dfc4dc9314ae9b63f5a40aa1d0abf": {
     "model_module": "@jupyter-widgets/controls",
     "model_name": "DescriptionStyleModel",
     "state": {
      "_model_module": "@jupyter-widgets/controls",
      "_model_module_version": "1.5.0",
      "_model_name": "DescriptionStyleModel",
      "_view_count": null,
      "_view_module": "@jupyter-widgets/base",
      "_view_module_version": "1.2.0",
      "_view_name": "StyleView",
      "description_width": ""
     }
    },
    "b765884f57ee47efb8d5bc1a3b387faa": {
     "model_module": "@jupyter-widgets/controls",
     "model_name": "HTMLModel",
     "state": {
      "_dom_classes": [],
      "_model_module": "@jupyter-widgets/controls",
      "_model_module_version": "1.5.0",
      "_model_name": "HTMLModel",
      "_view_count": null,
      "_view_module": "@jupyter-widgets/controls",
      "_view_module_version": "1.5.0",
      "_view_name": "HTMLView",
      "description": "",
      "description_tooltip": null,
      "layout": "IPY_MODEL_589fa440f5934454b099db6e0aa8c850",
      "placeholder": "​",
      "style": "IPY_MODEL_958dfc4dc9314ae9b63f5a40aa1d0abf",
      "value": " 5.95G/5.95G [05:26&lt;00:00, 19.5MB/s]"
     }
    },
    "cfe9a8d890474b61887f2ecb2997dccd": {
     "model_module": "@jupyter-widgets/base",
     "model_name": "LayoutModel",
     "state": {
      "_model_module": "@jupyter-widgets/base",
      "_model_module_version": "1.2.0",
      "_model_name": "LayoutModel",
      "_view_count": null,
      "_view_module": "@jupyter-widgets/base",
      "_view_module_version": "1.2.0",
      "_view_name": "LayoutView",
      "align_content": null,
      "align_items": null,
      "align_self": null,
      "border": null,
      "bottom": null,
      "display": null,
      "flex": null,
      "flex_flow": null,
      "grid_area": null,
      "grid_auto_columns": null,
      "grid_auto_flow": null,
      "grid_auto_rows": null,
      "grid_column": null,
      "grid_gap": null,
      "grid_row": null,
      "grid_template_areas": null,
      "grid_template_columns": null,
      "grid_template_rows": null,
      "height": null,
      "justify_content": null,
      "justify_items": null,
      "left": null,
      "margin": null,
      "max_height": null,
      "max_width": null,
      "min_height": null,
      "min_width": null,
      "object_fit": null,
      "object_position": null,
      "order": null,
      "overflow": null,
      "overflow_x": null,
      "overflow_y": null,
      "padding": null,
      "right": null,
      "top": null,
      "visibility": null,
      "width": null
     }
    },
    "f7c2e08c2fdd41d1acc7ad877708b5f7": {
     "model_module": "@jupyter-widgets/controls",
     "model_name": "HBoxModel",
     "state": {
      "_dom_classes": [],
      "_model_module": "@jupyter-widgets/controls",
      "_model_module_version": "1.5.0",
      "_model_name": "HBoxModel",
      "_view_count": null,
      "_view_module": "@jupyter-widgets/controls",
      "_view_module_version": "1.5.0",
      "_view_name": "HBoxView",
      "box_style": "",
      "children": [
       "IPY_MODEL_86c07288905449cbb1240186b334eef5",
       "IPY_MODEL_b765884f57ee47efb8d5bc1a3b387faa"
      ],
      "layout": "IPY_MODEL_cfe9a8d890474b61887f2ecb2997dccd"
     }
    }
   }
  }
 },
 "nbformat": 4,
 "nbformat_minor": 4
}
