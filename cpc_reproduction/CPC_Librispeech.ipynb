{
 "cells": [
  {
   "cell_type": "markdown",
   "metadata": {
    "colab_type": "text",
    "id": "4RaNzg2RIBQW"
   },
   "source": [
    "# CPC Librispeech Reproduction\n",
    "\n",
    "Notebook for reproducing the CPC paper Librispeech results."
   ]
  },
  {
   "cell_type": "markdown",
   "metadata": {
    "colab_type": "text",
    "id": "BopKXkQNk6sA"
   },
   "source": [
    "## Imports"
   ]
  },
  {
   "cell_type": "code",
   "execution_count": 32,
   "metadata": {
    "colab": {
     "base_uri": "https://localhost:8080/",
     "height": 202
    },
    "colab_type": "code",
    "id": "Jb-Ecdr_XtO5",
    "outputId": "938762dd-a27a-465a-efed-b14e4794371c"
   },
   "outputs": [
    {
     "name": "stdout",
     "output_type": "stream",
     "text": [
      "Requirement already satisfied: torchaudio==0.5.* in /home/mi/rbergmann/.conda/envs/py37/lib/python3.7/site-packages (0.5.0a0+738ccba)\n",
      "Requirement already satisfied: torch==1.5.* in /home/mi/rbergmann/.conda/envs/py37/lib/python3.7/site-packages (1.5.1)\n",
      "Collecting torchsummary==1.5.1\n",
      "  Using cached torchsummary-1.5.1-py3-none-any.whl (2.8 kB)\n",
      "Requirement already satisfied: numpy in /home/mi/rbergmann/.conda/envs/py37/lib/python3.7/site-packages (1.19.1)\n",
      "Requirement already satisfied: pandas in /home/mi/rbergmann/.conda/envs/py37/lib/python3.7/site-packages (1.0.5)\n",
      "Requirement already satisfied: matplotlib in /home/mi/rbergmann/.conda/envs/py37/lib/python3.7/site-packages (3.3.0)\n",
      "Collecting future\n",
      "  Using cached future-0.18.2.tar.gz (829 kB)\n",
      "Requirement already satisfied: pytz>=2017.2 in /home/mi/rbergmann/.conda/envs/py37/lib/python3.7/site-packages (from pandas) (2020.1)\n",
      "Requirement already satisfied: python-dateutil>=2.6.1 in /home/mi/rbergmann/.conda/envs/py37/lib/python3.7/site-packages (from pandas) (2.8.1)\n",
      "Requirement already satisfied: cycler>=0.10 in /home/mi/rbergmann/.conda/envs/py37/lib/python3.7/site-packages (from matplotlib) (0.10.0)\n",
      "Requirement already satisfied: pyparsing!=2.0.4,!=2.1.2,!=2.1.6,>=2.0.3 in /home/mi/rbergmann/.conda/envs/py37/lib/python3.7/site-packages (from matplotlib) (2.4.7)\n",
      "Requirement already satisfied: pillow>=6.2.0 in /home/mi/rbergmann/.conda/envs/py37/lib/python3.7/site-packages (from matplotlib) (7.2.0)\n",
      "Requirement already satisfied: kiwisolver>=1.0.1 in /home/mi/rbergmann/.conda/envs/py37/lib/python3.7/site-packages (from matplotlib) (1.2.0)\n",
      "Requirement already satisfied: six>=1.5 in /home/mi/rbergmann/.conda/envs/py37/lib/python3.7/site-packages (from python-dateutil>=2.6.1->pandas) (1.15.0)\n",
      "Building wheels for collected packages: future\n",
      "  Building wheel for future (setup.py) ... \u001b[?25ldone\n",
      "\u001b[?25h  Created wheel for future: filename=future-0.18.2-py3-none-any.whl size=491058 sha256=8b9a3f59f39b51263c42e5253a44f026218cb6625872b7f4084cd0796f4ec9d7\n",
      "  Stored in directory: /home/mi/rbergmann/.cache/pip/wheels/56/b0/fe/4410d17b32f1f0c3cf54cdfb2bc04d7b4b8f4ae377e2229ba0\n",
      "Successfully built future\n",
      "Installing collected packages: torchsummary, future\n",
      "Successfully installed future-0.18.2 torchsummary-1.5.1\n"
     ]
    }
   ],
   "source": [
    "!TMPDIR=../../tmp pip install torchaudio==0.5.* torch==1.5.* torchsummary==1.5.1 numpy pandas matplotlib"
   ]
  },
  {
   "cell_type": "code",
   "execution_count": 34,
   "metadata": {
    "colab": {},
    "colab_type": "code",
    "id": "zNYQvuF-Gpd9"
   },
   "outputs": [],
   "source": [
    "import torch\n",
    "import torch.nn as nn\n",
    "import torch.nn.functional as F\n",
    "import torch.optim as optim\n",
    "\n",
    "import torchaudio\n",
    "from torchaudio.datasets import LIBRISPEECH\n",
    "from torchaudio.datasets.utils import extract_archive\n",
    "from torch.utils.data import DataLoader, random_split\n",
    "from torchaudio.transforms import Spectrogram\n",
    "\n",
    "from torchsummary import summary\n",
    "\n",
    "import numpy as np\n",
    "import pandas as pd\n",
    "import matplotlib.pyplot as plt\n",
    "import os\n",
    "from timeit import default_timer as timer\n",
    "\n",
    "#from google.colab import drive"
   ]
  },
  {
   "cell_type": "markdown",
   "metadata": {
    "colab_type": "text",
    "id": "SJA4BUyknSxx"
   },
   "source": [
    "## Config"
   ]
  },
  {
   "cell_type": "code",
   "execution_count": 17,
   "metadata": {
    "colab": {
     "base_uri": "https://localhost:8080/",
     "height": 35
    },
    "colab_type": "code",
    "id": "i9UsNk_ZnV3k",
    "outputId": "6ef67640-7d84-423f-f860-baf457b5f553"
   },
   "outputs": [
    {
     "data": {
      "text/plain": [
       "device(type='cuda')"
      ]
     },
     "execution_count": 17,
     "metadata": {},
     "output_type": "execute_result"
    }
   ],
   "source": [
    "DEVICE = torch.device('cuda') if torch.cuda.is_available() else torch.device('cpu')\n",
    "RND_SEED = 1\n",
    "NUM_SPEAKERS = 251\n",
    "BATCH_SIZE = 64\n",
    "AUDIO_WINDOW = 20480\n",
    "N_STEPS = 12\n",
    "\n",
    "torch.random.manual_seed(RND_SEED)\n",
    "torch.cuda.manual_seed(RND_SEED)\n",
    "\n",
    "DEVICE"
   ]
  },
  {
   "cell_type": "markdown",
   "metadata": {
    "colab_type": "text",
    "id": "u3XLCnjnk8fP"
   },
   "source": [
    "# Data\n",
    "\n"
   ]
  },
  {
   "cell_type": "markdown",
   "metadata": {
    "colab_type": "text",
    "id": "TyYOUNSJvNWN"
   },
   "source": [
    "## Phonemes\n",
    "\n",
    "> Although the dataset does not provide labels other than the raw text, we obtained force-aligned phone sequences with the Kaldi toolkit [31] and pre-trained models on Librispeech1. We have made the aligned phonelabels and our train/test split available for download on Google Drive2. The dataset contains speech from 251 different speakers."
   ]
  },
  {
   "cell_type": "code",
   "execution_count": null,
   "metadata": {
    "colab": {},
    "colab_type": "code",
    "id": "1AHM-t7yk9Q5"
   },
   "outputs": [],
   "source": [
    "#drive.mount('/content/drive')"
   ]
  },
  {
   "cell_type": "code",
   "execution_count": null,
   "metadata": {
    "colab": {},
    "colab_type": "code",
    "id": "vfJjBXt2lYB9"
   },
   "outputs": [],
   "source": [
    "#train_split_labels = pd.read_csv('/content/drive/My Drive/ma/train_split.txt')\n",
    "#test_split_labels = pd.read_csv('/content/drive/My Drive/ma/test_split.txt')\n",
    "#converted_aligned_phones = pd.read_csv('/content/drive/My Drive/ma/converted_aligned_phones.txt', sep=' ', header=None, usecols=range(0, 1097))"
   ]
  },
  {
   "cell_type": "code",
   "execution_count": null,
   "metadata": {
    "colab": {},
    "colab_type": "code",
    "id": "BswyL9V0mejd"
   },
   "outputs": [],
   "source": [
    "#print(converted_aligned_phones.shape, train_split_labels.shape, test_split_labels.shape)\n",
    "#train_split_labels # 80/20 split\n",
    "#converted_aligned_phones"
   ]
  },
  {
   "cell_type": "markdown",
   "metadata": {
    "colab_type": "text",
    "id": "6xYqwY4dVH2y"
   },
   "source": [
    "Extract the archive."
   ]
  },
  {
   "cell_type": "code",
   "execution_count": null,
   "metadata": {
    "colab": {},
    "colab_type": "code",
    "id": "1eLOLFdoJ66X"
   },
   "outputs": [],
   "source": [
    "#!wget www.openslr.org/resources/12/train-clean-100.tar.gz\n",
    "#!mv train-clean-100.tar.gz '/content/drive/My Drive/'\n",
    "#!tar xzf 'drive/My Drive/ma/train-clean-100.tar.gz' -C ./"
   ]
  },
  {
   "cell_type": "markdown",
   "metadata": {
    "colab_type": "text",
    "id": "NGDG9BuWX8pi"
   },
   "source": [
    "Pytorch has a dataset ..."
   ]
  },
  {
   "cell_type": "code",
   "execution_count": null,
   "metadata": {
    "colab": {},
    "colab_type": "code",
    "id": "W4MsBn1sVYP_"
   },
   "outputs": [],
   "source": [
    "# copy to runtime local storage to speed things up manifold\n",
    "#!rsync -P --append-verify -r drive/My\\ Drive/LibriSpeech ./\n",
    "#!rm -r ./LibriSpeech"
   ]
  },
  {
   "cell_type": "markdown",
   "metadata": {
    "colab_type": "text",
    "id": "5S2z8cZlvT5k"
   },
   "source": [
    "## Speaker ID"
   ]
  },
  {
   "cell_type": "code",
   "execution_count": 3,
   "metadata": {
    "colab": {
     "base_uri": "https://localhost:8080/",
     "height": 67,
     "referenced_widgets": [
      "f7c2e08c2fdd41d1acc7ad877708b5f7",
      "cfe9a8d890474b61887f2ecb2997dccd",
      "86c07288905449cbb1240186b334eef5",
      "b765884f57ee47efb8d5bc1a3b387faa",
      "0156e8d0482540eca99e27edc2bdb261",
      "3b80aa0abeba41d7891f8f6597058091",
      "958dfc4dc9314ae9b63f5a40aa1d0abf",
      "589fa440f5934454b099db6e0aa8c850"
     ]
    },
    "colab_type": "code",
    "id": "Ybgc-OIDX77v",
    "outputId": "3ad65298-431f-4814-eaf9-583f04586311"
   },
   "outputs": [
    {
     "name": "stderr",
     "output_type": "stream",
     "text": [
      "100.0%\n"
     ]
    }
   ],
   "source": [
    "libri_data = LIBRISPEECH('./', url='train-clean-100', download=False)"
   ]
  },
  {
   "cell_type": "code",
   "execution_count": 4,
   "metadata": {
    "colab": {
     "base_uri": "https://localhost:8080/",
     "height": 35
    },
    "colab_type": "code",
    "id": "Y_T3dOXgnbMq",
    "outputId": "de2a166d-ce15-4831-8bd1-2488ffcd639f"
   },
   "outputs": [
    {
     "data": {
      "text/plain": [
       "(28539, 22831, 5708)"
      ]
     },
     "execution_count": 4,
     "metadata": {},
     "output_type": "execute_result"
    }
   ],
   "source": [
    "len(libri_data), round(len(libri_data) * .8), len(libri_data) - round(len(libri_data) * .8)"
   ]
  },
  {
   "cell_type": "markdown",
   "metadata": {
    "colab_type": "text",
    "id": "WRqU8jpsE6lN"
   },
   "source": [
    "We could probably use a custom sampler to get the exact split via the provided labels but let's skip this for now."
   ]
  },
  {
   "cell_type": "code",
   "execution_count": 18,
   "metadata": {
    "colab": {
     "base_uri": "https://localhost:8080/",
     "height": 35
    },
    "colab_type": "code",
    "id": "kLoa3GueCvME",
    "outputId": "d1aa7ec8-6dbc-4cef-8e75-ea37e96f6067"
   },
   "outputs": [
    {
     "data": {
      "text/plain": [
       "(356, 89)"
      ]
     },
     "execution_count": 18,
     "metadata": {},
     "output_type": "execute_result"
    }
   ],
   "source": [
    "train_data, test_data = random_split(libri_data, [22831, 5708])\n",
    "\n",
    "train_loader = DataLoader(train_data, batch_size=BATCH_SIZE, shuffle=True, num_workers=4, drop_last=True)\n",
    "test_loader = DataLoader(test_data, batch_size=BATCH_SIZE, shuffle=True, num_workers=4, drop_last=True)\n",
    "\n",
    "(len(train_loader), len(test_loader))"
   ]
  },
  {
   "cell_type": "markdown",
   "metadata": {
    "colab_type": "text",
    "id": "EOvPEvDfmjyc"
   },
   "source": [
    "> Each item is a tuple of the form: waveform, sample_rate, utterance, speaker_id, chapter_id, utterance_id"
   ]
  },
  {
   "cell_type": "code",
   "execution_count": 19,
   "metadata": {
    "colab": {
     "base_uri": "https://localhost:8080/",
     "height": 146
    },
    "colab_type": "code",
    "id": "67lUePNzmeHr",
    "outputId": "07d120c5-f1c6-4638-eda1-3b79f1b2109a"
   },
   "outputs": [
    {
     "data": {
      "text/plain": [
       "(tensor([[ 0.0069,  0.0042, -0.0016,  ...,  0.0006,  0.0019,  0.0020]]),\n",
       " 16000,\n",
       " 'IN THE DIRECTION OF THE ENEMY EARLY IN THE FIGHT I CAME UPON CHURCH ATTENDING TO A YOUNG COWBOY WHO WAS SHOT THROUGH THE CHEST',\n",
       " 5049,\n",
       " 25947,\n",
       " 107)"
      ]
     },
     "execution_count": 19,
     "metadata": {},
     "output_type": "execute_result"
    }
   ],
   "source": [
    "train_loader.dataset[0]"
   ]
  },
  {
   "cell_type": "markdown",
   "metadata": {
    "colab_type": "text",
    "id": "uPAKDbuIYL3C"
   },
   "source": [
    "We need to map the labels to [0 - NUM_SPEAKERS]. Instead of looping over everything we will just list the folders for their name is the speaker ID. We then keep a forward and a backward mapping."
   ]
  },
  {
   "cell_type": "code",
   "execution_count": 20,
   "metadata": {
    "colab": {
     "base_uri": "https://localhost:8080/",
     "height": 35
    },
    "colab_type": "code",
    "id": "_BbmfA-OYNXr",
    "outputId": "510ee284-6b19-4b43-e4c9-727515b7d98e"
   },
   "outputs": [
    {
     "data": {
      "text/plain": [
       "159"
      ]
     },
     "execution_count": 20,
     "metadata": {},
     "output_type": "execute_result"
    }
   ],
   "source": [
    "#label_mapping_to_dataset = dict(enumerate(np.unique([int(k) for k in os.listdir('drive/My Drive/LibriSpeech/train-clean-100')])))\n",
    "label_mapping_to_dataset = dict(enumerate(np.unique([int(k) for k in os.listdir('./LibriSpeech/train-clean-100')])))\n",
    "label_mapping_from_dataset = {v: k for k, v in label_mapping_to_dataset.items()}\n",
    "assert(len(label_mapping_to_dataset) == NUM_SPEAKERS)\n",
    "\n",
    "label_mapping_from_dataset[train_loader.dataset[0][3]]"
   ]
  },
  {
   "cell_type": "code",
   "execution_count": 21,
   "metadata": {
    "colab": {
     "base_uri": "https://localhost:8080/",
     "height": 35
    },
    "colab_type": "code",
    "id": "Tc079NRTit10",
    "outputId": "ffb05b64-2b8c-448d-d5c7-a555b2436043"
   },
   "outputs": [
    {
     "data": {
      "text/plain": [
       "(torch.Size([1, 165680]), torch.Size([1, 239520]), torch.Size([1, 241280]))"
      ]
     },
     "execution_count": 21,
     "metadata": {},
     "output_type": "execute_result"
    }
   ],
   "source": [
    "(train_loader.dataset[0][0].shape, train_loader.dataset[1][0].shape, train_loader.dataset[2][0].shape)"
   ]
  },
  {
   "cell_type": "markdown",
   "metadata": {
    "colab_type": "text",
    "id": "vQCKsE6Zw15b"
   },
   "source": [
    "All different lengths - we can't use this with DataLoader. But we need to subsample a 20480 sequence anyway."
   ]
  },
  {
   "cell_type": "markdown",
   "metadata": {
    "colab_type": "text",
    "id": "eBOoenZVxx_T"
   },
   "source": [
    "### Sequence Sampling"
   ]
  },
  {
   "cell_type": "code",
   "execution_count": 22,
   "metadata": {
    "colab": {},
    "colab_type": "code",
    "id": "_tGnvvHyxGTb"
   },
   "outputs": [],
   "source": [
    "def subsample(batch):\n",
    "    '''\n",
    "    Sample a 20480-width sequence from each sequence.\n",
    "    '''\n",
    "    # let's just keep wav and speaker ID\n",
    "    x, _, _, y, _, _ = zip(*batch)\n",
    "    # translate to class-labels and make it a tensor\n",
    "    y = [torch.tensor(label_mapping_from_dataset[label]) for label in y]\n",
    "    # assuming all seqs are > 20480\n",
    "    #print([seq.shape[1] for seq in x]) # seq.shape is (1,seq_len)\n",
    "    x = [torch.squeeze(v) for v in x]\n",
    "    # we sample a sequence of length 20480, so we need an index between 0 and seq_len - 20480\n",
    "    indexes = [np.random.randint(len(seq) - AUDIO_WINDOW) for seq in x] # TODO: +1 or not?\n",
    "    #print(indexes)\n",
    "    x = [torch.narrow(x[i], 0, indexes[i], AUDIO_WINDOW) for i in range(len(batch))]\n",
    "    # stack batch\n",
    "    x = torch.stack(x, 0)\n",
    "    y = torch.stack(y, 0)\n",
    "    return x, y"
   ]
  },
  {
   "cell_type": "markdown",
   "metadata": {
    "colab_type": "text",
    "id": "PcDqTBBUx0vZ"
   },
   "source": [
    "### Loaders"
   ]
  },
  {
   "cell_type": "code",
   "execution_count": 23,
   "metadata": {
    "colab": {},
    "colab_type": "code",
    "id": "czN0GP2d3djB"
   },
   "outputs": [],
   "source": [
    "train_loader = DataLoader(train_data, batch_size=BATCH_SIZE, shuffle=True, num_workers=4, \n",
    "                          collate_fn=subsample, drop_last=True\n",
    "                         )\n",
    "test_loader = DataLoader(test_data, batch_size=BATCH_SIZE, shuffle=True, num_workers=1, \n",
    "                         collate_fn=subsample, drop_last=True\n",
    "                         )"
   ]
  },
  {
   "cell_type": "code",
   "execution_count": null,
   "metadata": {
    "colab": {
     "base_uri": "https://localhost:8080/",
     "height": 348
    },
    "colab_type": "code",
    "id": "NikTiezx0JqV",
    "outputId": "11827a23-01e0-404c-a3eb-478c10a4cf71"
   },
   "outputs": [],
   "source": [
    "for i, v in enumerate(train_loader):\n",
    "    print(v[0].shape, v[1].shape, v[1])\n",
    "    for b in range(v[0].shape[0]):\n",
    "        print(v[0][b].shape)\n",
    "    if i > 0: break"
   ]
  },
  {
   "cell_type": "markdown",
   "metadata": {
    "colab_type": "text",
    "id": "4n33fMAXsoUK"
   },
   "source": [
    "## Visalization\n",
    "\n",
    "Let's get a view of a sample. Just for our mental model."
   ]
  },
  {
   "cell_type": "code",
   "execution_count": 25,
   "metadata": {
    "colab": {
     "base_uri": "https://localhost:8080/",
     "height": 283
    },
    "colab_type": "code",
    "id": "_ewv1or3nC4r",
    "outputId": "d8216e4c-9530-4c6f-e166-9de65eb48905"
   },
   "outputs": [
    {
     "data": {
      "text/plain": [
       "[<matplotlib.lines.Line2D at 0x7feaa3607f50>]"
      ]
     },
     "execution_count": 25,
     "metadata": {},
     "output_type": "execute_result"
    },
    {
     "data": {
      "image/png": "[encoded data removed]",
      "text/plain": [
       "<Figure size 432x288 with 1 Axes>"
      ]
     },
     "metadata": {
      "needs_background": "light"
     },
     "output_type": "display_data"
    }
   ],
   "source": [
    "plt.figure()\n",
    "plt.plot(train_loader.dataset[0][0].t().numpy())"
   ]
  },
  {
   "cell_type": "code",
   "execution_count": 26,
   "metadata": {
    "colab": {
     "base_uri": "https://localhost:8080/",
     "height": 275
    },
    "colab_type": "code",
    "id": "Gd6EgDg8lblE",
    "outputId": "d1d64bb6-a3ff-48c3-c0dd-41900a2a6a95"
   },
   "outputs": [
    {
     "data": {
      "text/plain": [
       "<matplotlib.image.AxesImage at 0x7feaa8453f50>"
      ]
     },
     "execution_count": 26,
     "metadata": {},
     "output_type": "execute_result"
    },
    {
     "data": {
      "image/png": "[encoded data removed]",
      "text/plain": [
       "<Figure size 432x288 with 1 Axes>"
      ]
     },
     "metadata": {
      "needs_background": "light"
     },
     "output_type": "display_data"
    },
    {
     "data": {
      "image/png": "[encoded data removed]",
      "text/plain": [
       "<Figure size 432x288 with 1 Axes>"
      ]
     },
     "metadata": {
      "needs_background": "light"
     },
     "output_type": "display_data"
    }
   ],
   "source": [
    "specgram = Spectrogram()(train_loader.dataset[0][0])\n",
    "plt.figure()\n",
    "plt.imshow(specgram.log2()[0,:,:].numpy(), cmap='gray')\n",
    "\n",
    "specgram = Spectrogram()(train_loader.dataset[1][0])\n",
    "plt.figure()\n",
    "plt.imshow(specgram.log2()[0,:,:].numpy(), cmap='gray')"
   ]
  },
  {
   "cell_type": "markdown",
   "metadata": {
    "colab_type": "text",
    "id": "tu2OgTdwtJuM"
   },
   "source": [
    "# CPC"
   ]
  },
  {
   "cell_type": "markdown",
   "metadata": {
    "colab_type": "text",
    "id": "DQa2qQBczPul"
   },
   "source": [
    "## Model"
   ]
  },
  {
   "cell_type": "markdown",
   "metadata": {
    "colab_type": "text",
    "id": "Xfyhz5TFtmev"
   },
   "source": [
    "> The encoder architecture $g_{enc}$ used in our experiments consists of a strided convolutional neural network that runs directly on the 16KHz PCM audio waveform. We use five convolutional layers with strides [5, 4, 2, 2, 2], filter-sizes [10, 8, 4, 4, 4] and 512 hidden units with ReLU activations. The total downsampling factor of the network is 160 so that there is a feature vector for every 10ms ofspeech, which is also the rate of the phoneme sequence labels obtained with Kaldi. We then use a GRU RNN [17] for the autoregressive part of the model, $g_{ar}$ with 256 dimensional hidden state. The output of the GRU at every timestep is used as the context $c$ from which we predict 12 timesteps in the future using the contrastive loss.\n",
    "\n"
   ]
  },
  {
   "cell_type": "code",
   "execution_count": 27,
   "metadata": {
    "colab": {},
    "colab_type": "code",
    "id": "beTPSejBF4bM"
   },
   "outputs": [],
   "source": [
    "class CPC(nn.Module):\n",
    "    def __init__(self, n_steps, n_speaker):\n",
    "        super(CPC, self).__init__()\n",
    "        self.n_steps = n_steps\n",
    "        self.n_speaker = n_speaker\n",
    "        self.g_enc = self.encoder()\n",
    "        self.g_ar = self.autoregressive()\n",
    "        self.step_W = nn.ModuleList([nn.Linear(256, 512) for i in range(n_steps)])\n",
    "        self.loss_criterion = nn.CrossEntropyLoss()\n",
    "        # for a batch of 8 we need 8x8 targets with ones on the diagonal\n",
    "        # it's always the same target, we can reuse it\n",
    "        #self.cpc_target = torch.diag(torch.ones(BATCH_SIZE)).to(DEVICE)\n",
    "        self.cpc_target = torch.arange(0, BATCH_SIZE).long().to(DEVICE) # for CE/NLL\n",
    "\n",
    "    def encoder(self):\n",
    "        return nn.Sequential(\n",
    "            # TODO: add batch norms?\n",
    "            # padding not mentioned but w\\o we get 126 instead of 128\n",
    "            nn.Conv1d(1, 512, 10, 5, 3),\n",
    "            nn.ReLU(),\n",
    "            nn.Conv1d(512, 512, 8, 4, 2),\n",
    "            nn.ReLU(),\n",
    "            nn.Conv1d(512, 512, 4, 2, 1),\n",
    "            nn.ReLU(),\n",
    "            nn.Conv1d(512, 512, 4, 2, 1),\n",
    "            nn.ReLU(),\n",
    "            nn.Conv1d(512, 512, 4, 2, 1),\n",
    "            nn.ReLU(),\n",
    "        )\n",
    "        \n",
    "    def autoregressive(self):\n",
    "        return nn.GRU(512, 256, batch_first=True)\n",
    "\n",
    "    def predict(self, x, hidden=None):\n",
    "        '''Return c_t for the whole given x.'''\n",
    "        with torch.no_grad():\n",
    "            if hidden == None:\n",
    "                hidden = self.empty_hidden()\n",
    "            z = self.g_enc(x)\n",
    "            z = z.permute(0, 2, 1)\n",
    "            pred, hidden = self.g_ar(z, hidden)\n",
    "            return pred[:,-1,:], hidden\n",
    "\n",
    "    def forward(self, x, gar_hidden):\n",
    "        # put through g_enc\n",
    "        z = self.g_enc(x)\n",
    "        #print(z.shape) # 8,512,128\n",
    "\n",
    "        # sample a subsequence of n steps, 1/160 is the downsampling from the encoder\n",
    "        # but we need at least one bit to feed into the GRU, so we pick from 1 to seqlen - n_steps\n",
    "        subsample_idx = torch.randint(1, int(AUDIO_WINDOW / 160) - N_STEPS, size=(1,)) # 1-116\n",
    "        # we can't pick a different index for each sample of the batch or we cannot process them as a batch\n",
    "        # for the pieces would have different lengths --- or we would have to pad them to the same length again\n",
    "        # our data loader shuffles so this should not be too much of a bummer\n",
    "        \n",
    "        # put everything before our pick through g_ar, collect c_t        \n",
    "        # g_ar expects shape(batch, seq_len, input_size), h_0 of shape (num_layers * num_directions, batch, hidden_size)\n",
    "        # https://pytorch.org/docs/master/generated/torch.nn.GRU.html#torch.nn.GRU\n",
    "        # https://jdhao.github.io/2019/07/10/pytorch_view_reshape_transpose_permute/\n",
    "        z = z.permute(0, 2, 1)\n",
    "        c_tx, gar_hidden = self.g_ar(z[:,:subsample_idx,:], gar_hidden)\n",
    "        c_t = c_tx[:,-1,:].squeeze() # GRU outputs a c for every step - we want the last\n",
    "        #print(c_tx.shape) # e.g. 8*112*256\n",
    "\n",
    "        # for n steps, put through W_k for corresponding step to get predictions\n",
    "        # W_k * c_t\n",
    "        pred = [self.step_W[step](c_t) for step in range(N_STEPS)]\n",
    "        #print(pred[0].shape) # 8*512\n",
    "\n",
    "        # info nce loss\n",
    "        acc = []\n",
    "        info_nce_loss = []\n",
    "        for time_step in range(N_STEPS):\n",
    "            # f_k = exp(z_{t+k} * W_k * c_t)\n",
    "            f_k = torch.mm(z[:,subsample_idx + time_step,:].squeeze(), torch.transpose(pred[time_step], 0, 1))\n",
    "            info_nce_loss.append(self.loss_criterion(f_k, self.cpc_target))\n",
    "            accuracy = torch.mean((torch.argmax(f_k, dim=1) == self.cpc_target).float())\n",
    "            acc.append(accuracy)\n",
    "        info_nce_loss = torch.stack(info_nce_loss).mean()\n",
    "        \n",
    "        return torch.mean(info_nce_loss), torch.mean(torch.tensor(acc))\n",
    "    \n",
    "    def empty_hidden(self):\n",
    "        return torch.zeros(1, BATCH_SIZE, 256).to(DEVICE)"
   ]
  },
  {
   "cell_type": "markdown",
   "metadata": {
    "colab_type": "text",
    "id": "i1uxfWth5RCd"
   },
   "source": [
    "## Train CPC\n",
    "\n",
    "> We train on sampled audio windows of length 20480. We usethe Adam optimizer [32] with a learning rate of $2^{-4}$, and use 8 GPUs each with a minibatch of 8 examples from which the negative samples in the contrastive loss are drawn. The model is trained until convergence, which happens roughly at 300,000 updates."
   ]
  },
  {
   "cell_type": "code",
   "execution_count": 28,
   "metadata": {
    "colab": {},
    "colab_type": "code",
    "id": "EcSBqPWy5V_o"
   },
   "outputs": [],
   "source": [
    "def train(model, epoch, optimizer, data_loader):\n",
    "    model.train()\n",
    "    loss = 0 # epoch loss\n",
    "    acc = 0  # epoch acc\n",
    "    epoch_loss = []\n",
    "    epoch_acc = []\n",
    "    for batch_idx, (x, y) in enumerate(data_loader):\n",
    "        time_batch_start = timer()\n",
    "        optimizer.zero_grad()\n",
    "        \n",
    "        # add channel dimension\n",
    "        if len(x.shape) < 3:\n",
    "            x = x.unsqueeze(1).to(DEVICE)\n",
    "        \n",
    "        # fwd - info_nce loss inside forward\n",
    "        loss, accuracy = model(x, model.empty_hidden())\n",
    "        \n",
    "        # back\n",
    "        loss.backward()\n",
    "        optimizer.step()\n",
    "\n",
    "        epoch_loss.append(loss.item())\n",
    "        epoch_acc.append(accuracy)\n",
    "\n",
    "        # progress report every couple updates\n",
    "        if batch_idx % 40 == 0:\n",
    "            print('Epoch: {} [{}/{} ({:.0f}%)]\\tLoss: {:.8f}\\tAcc: {:.2f}%\\tTime: {:.6f}'.format(\n",
    "                    epoch,\n",
    "                    batch_idx * BATCH_SIZE,\n",
    "                    len(data_loader.dataset),\n",
    "                    100. * batch_idx / len(data_loader),\n",
    "                    loss,\n",
    "                    accuracy * 100,\n",
    "                    timer() - time_batch_start\n",
    "                ))\n",
    "            \n",
    "    return torch.mean(torch.tensor(epoch_loss, dtype=torch.float64)), torch.mean(torch.tensor(epoch_acc, dtype=torch.float64))"
   ]
  },
  {
   "cell_type": "code",
   "execution_count": 35,
   "metadata": {
    "colab": {},
    "colab_type": "code",
    "id": "QijDJvW55TdK"
   },
   "outputs": [],
   "source": [
    "# CPC model with vertical slice for negatives (fast)\n",
    "model = CPC(N_STEPS, NUM_SPEAKERS).to(DEVICE)\n",
    "# CPC model with full negative sampling (loop, slow)\n",
    "#model = CPC_full_neg(N_STEPS, NUM_SPEAKERS).to(DEVICE)\n",
    "# CPC model with full negative sampling (vectorized)\n",
    "#model = CPC_full_neg_v(N_STEPS, NUM_SPEAKERS).to(DEVICE)\n",
    "#model = CPC_full_neg_v2(N_STEPS, NUM_SPEAKERS).to(DEVICE)\n",
    "\n",
    "optimizer = torch.optim.Adam(model.parameters(), lr=0.0002)\n",
    "#model"
   ]
  },
  {
   "cell_type": "code",
   "execution_count": 36,
   "metadata": {
    "colab": {},
    "colab_type": "code",
    "id": "B3CJpZCd7ZKj"
   },
   "outputs": [
    {
     "name": "stdout",
     "output_type": "stream",
     "text": [
      "----------------------------------------------------------------\n",
      "        Layer (type)               Output Shape         Param #\n",
      "================================================================\n",
      "            Conv1d-1            [-1, 512, 4096]           5,632\n",
      "              ReLU-2            [-1, 512, 4096]               0\n",
      "            Conv1d-3            [-1, 512, 1024]       2,097,664\n",
      "              ReLU-4            [-1, 512, 1024]               0\n",
      "            Conv1d-5             [-1, 512, 512]       1,049,088\n",
      "              ReLU-6             [-1, 512, 512]               0\n",
      "            Conv1d-7             [-1, 512, 256]       1,049,088\n",
      "              ReLU-8             [-1, 512, 256]               0\n",
      "            Conv1d-9             [-1, 512, 128]       1,049,088\n",
      "             ReLU-10             [-1, 512, 128]               0\n",
      "================================================================\n",
      "Total params: 5,250,560\n",
      "Trainable params: 5,250,560\n",
      "Non-trainable params: 0\n",
      "----------------------------------------------------------------\n",
      "Input size (MB): 0.08\n",
      "Forward/backward pass size (MB): 47.00\n",
      "Params size (MB): 20.03\n",
      "Estimated Total Size (MB): 67.11\n",
      "----------------------------------------------------------------\n"
     ]
    }
   ],
   "source": [
    "summary(model.g_enc, (1, 20480))"
   ]
  },
  {
   "cell_type": "code",
   "execution_count": 37,
   "metadata": {
    "colab": {},
    "colab_type": "code",
    "id": "qksHjFp8Oj5-"
   },
   "outputs": [],
   "source": [
    "loss_cpc = []\n",
    "acc_cpc = []"
   ]
  },
  {
   "cell_type": "markdown",
   "metadata": {
    "colab_type": "text",
    "id": "TpzAMCy7kLr-"
   },
   "source": [
    "## Run"
   ]
  },
  {
   "cell_type": "code",
   "execution_count": null,
   "metadata": {
    "colab": {
     "base_uri": "https://localhost:8080/",
     "height": 1000
    },
    "colab_type": "code",
    "id": "6CPHY5sf2T3Z",
    "outputId": "b088a888-e1c5-4838-fee9-eef54c0ee81c"
   },
   "outputs": [],
   "source": [
    "for epoch in range(20):\n",
    "    l, a = train(model, epoch, optimizer, train_loader)\n",
    "    loss_cpc.append(l)\n",
    "    acc_cpc.append(a)"
   ]
  },
  {
   "cell_type": "markdown",
   "metadata": {
    "colab_type": "text",
    "id": "vJ4w5wKJzHMF"
   },
   "source": [
    "### Training Loss"
   ]
  },
  {
   "cell_type": "code",
   "execution_count": 112,
   "metadata": {
    "colab": {
     "base_uri": "https://localhost:8080/",
     "height": 283
    },
    "colab_type": "code",
    "id": "R4ceaUAitvqg",
    "outputId": "a4105420-798e-44d5-b95d-e0ece4d27bb4"
   },
   "outputs": [
    {
     "data": {
      "text/plain": [
       "[<matplotlib.lines.Line2D at 0x7feaa1234ad0>]"
      ]
     },
     "execution_count": 112,
     "metadata": {},
     "output_type": "execute_result"
    },
    {
     "data": {
      "image/png": "[encoded data removed]",
      "text/plain": [
       "<Figure size 432x288 with 1 Axes>"
      ]
     },
     "metadata": {
      "needs_background": "light"
     },
     "output_type": "display_data"
    }
   ],
   "source": [
    "plt.figure()\n",
    "plt.plot(np.arange(len(loss_cpc)), loss_cpc)"
   ]
  },
  {
   "cell_type": "markdown",
   "metadata": {
    "colab_type": "text",
    "id": "hGOPDd-MzKTn"
   },
   "source": [
    "### Training Accuracy"
   ]
  },
  {
   "cell_type": "code",
   "execution_count": 113,
   "metadata": {
    "colab": {
     "base_uri": "https://localhost:8080/",
     "height": 283
    },
    "colab_type": "code",
    "id": "iNsJ_EqwuWoG",
    "outputId": "0c329037-df62-410e-889f-adaef04681d5"
   },
   "outputs": [
    {
     "data": {
      "text/plain": [
       "[<matplotlib.lines.Line2D at 0x7feaa11b9750>]"
      ]
     },
     "execution_count": 113,
     "metadata": {},
     "output_type": "execute_result"
    },
    {
     "data": {
      "image/png": "[encoded data removed]",
      "text/plain": [
       "<Figure size 432x288 with 1 Axes>"
      ]
     },
     "metadata": {
      "needs_background": "light"
     },
     "output_type": "display_data"
    }
   ],
   "source": [
    "plt.figure()\n",
    "plt.plot(np.arange(len(acc_cpc)), acc_cpc)"
   ]
  },
  {
   "cell_type": "markdown",
   "metadata": {
    "colab_type": "text",
    "id": "Pml-IzrLFh6F"
   },
   "source": [
    "We could test the CPC objective against the validation set in the same way. Pick a random index, feed the $g_{ar}$ to this index, make predictions and see how well the $W_k$ perform."
   ]
  },
  {
   "cell_type": "markdown",
   "metadata": {
    "colab_type": "text",
    "id": "Oizs1nSQ4i3k"
   },
   "source": [
    "# Classifier\n",
    "\n",
    "This is the speaker classifier - a simple linear one.\n",
    "\n",
    "> [...] with a linear classifier from the same representation [...]"
   ]
  },
  {
   "cell_type": "code",
   "execution_count": 41,
   "metadata": {
    "colab": {},
    "colab_type": "code",
    "id": "BWChzVu0V0pP"
   },
   "outputs": [],
   "source": [
    "class SpeakerClassifier(nn.Module):\n",
    "    '''Classifier for speaker identification - simple linear.'''\n",
    "    def __init__(self, n_speaker):\n",
    "        super(SpeakerClassifier, self).__init__()\n",
    "        self.n_speaker = n_speaker\n",
    "        self.classifier = nn.Sequential(\n",
    "            nn.Linear(256, n_speaker)\n",
    "        )\n",
    "\n",
    "    def forward(self, x):\n",
    "        return self.classifier(x)"
   ]
  },
  {
   "cell_type": "markdown",
   "metadata": {
    "colab_type": "text",
    "id": "vHk950QEqqso"
   },
   "source": [
    "## Train Classifier"
   ]
  },
  {
   "cell_type": "code",
   "execution_count": 42,
   "metadata": {
    "colab": {},
    "colab_type": "code",
    "id": "xPSlw_yV8fov"
   },
   "outputs": [],
   "source": [
    "def train_speaker_clfy(cpc_model, classifier, optimizer, loss_fn, epoch, data_loader):\n",
    "    cpc_model.to(DEVICE)\n",
    "    cpc_model.eval()\n",
    "    classifier.train()\n",
    "\n",
    "    epoch_loss = []\n",
    "    epoch_acc = []\n",
    "    \n",
    "    for batch_idx, (x, y) in enumerate(data_loader):\n",
    "        optimizer.zero_grad()\n",
    "\n",
    "        # add channel dim\n",
    "        x = x.unsqueeze(1).to(DEVICE)\n",
    "        y.to(DEVICE)\n",
    "        #print(x.shape) # 8,1,20480\n",
    "\n",
    "        # cpc output\n",
    "        output, hidden = cpc_model.predict(x)\n",
    "        c_t = output.contiguous().view((-1,256))\n",
    "\n",
    "        #print(output.shape, c_t.shape) # 8,256\n",
    "        \n",
    "        # shuffle batch\n",
    "        y = y.view((-1,1)) # to column\n",
    "        shuffle_idx = torch.randperm(BATCH_SIZE) \n",
    "        c_t = c_t[shuffle_idx,:]\n",
    "        y = y[shuffle_idx,:].view((-1,)) # to row\n",
    "        \n",
    "        # classifier fwd\n",
    "        c_t = c_t.to(DEVICE)\n",
    "        y = y.to(DEVICE)\n",
    "        output = classifier(c_t)\n",
    "\n",
    "        #print(output.shape, output.max(1, keepdim=True)[1])\n",
    "\n",
    "        # loss & backprop\n",
    "        loss = loss_fn(output, y)\n",
    "        loss.backward()\n",
    "        optimizer.step()\n",
    "\n",
    "        # metrics\n",
    "        pred = output.max(1, keepdim=True)[1]\n",
    "        acc = 1. * pred.eq(y.view_as(pred)).sum().item() / BATCH_SIZE\n",
    "\n",
    "        epoch_loss.append(loss.item())\n",
    "        epoch_acc.append(acc)\n",
    "        \n",
    "        if batch_idx % 160 == 0:\n",
    "            print('Epoch: {} [{}/{} ({:.0f}%)]\\tAccuracy: {:.2f}\\tLoss: {:.6f}'.format(\n",
    "                epoch, batch_idx * BATCH_SIZE, len(data_loader.dataset),\n",
    "                100. * batch_idx / len(data_loader), acc, loss.item()))\n",
    "        \n",
    "    return torch.mean(torch.tensor(epoch_loss)), torch.mean(torch.tensor(epoch_acc))"
   ]
  },
  {
   "cell_type": "code",
   "execution_count": 125,
   "metadata": {
    "colab": {},
    "colab_type": "code",
    "id": "BALf8lPcKcsN"
   },
   "outputs": [],
   "source": [
    "classifier = SpeakerClassifier(NUM_SPEAKERS).to(DEVICE)\n",
    "optimizer_clfy = torch.optim.Adam(classifier.parameters())\n",
    "loss_clfy = nn.CrossEntropyLoss()"
   ]
  },
  {
   "cell_type": "code",
   "execution_count": 126,
   "metadata": {
    "colab": {},
    "colab_type": "code",
    "id": "_mgaRG-eFvEl"
   },
   "outputs": [],
   "source": [
    "loss_hist_clfy = []\n",
    "acc_hist_clfy = []"
   ]
  },
  {
   "cell_type": "code",
   "execution_count": null,
   "metadata": {
    "colab": {},
    "colab_type": "code",
    "id": "LMOMg2fjqcMQ"
   },
   "outputs": [],
   "source": [
    "for epoch in range(20):\n",
    "    l, a = train_speaker_clfy(model, classifier, optimizer_clfy, loss_clfy, epoch, train_loader)\n",
    "    loss_hist_clfy.append(l)\n",
    "    acc_hist_clfy.append(a)"
   ]
  },
  {
   "cell_type": "code",
   "execution_count": 128,
   "metadata": {
    "colab": {
     "base_uri": "https://localhost:8080/",
     "height": 283
    },
    "colab_type": "code",
    "id": "VayzMG75GtGA",
    "outputId": "26d091fb-88bc-4b72-cfcf-01baee3c1597"
   },
   "outputs": [
    {
     "data": {
      "text/plain": [
       "[<matplotlib.lines.Line2D at 0x7fea5a8111d0>]"
      ]
     },
     "execution_count": 128,
     "metadata": {},
     "output_type": "execute_result"
    },
    {
     "data": {
      "image/png": "[encoded data removed]",
      "text/plain": [
       "<Figure size 432x288 with 1 Axes>"
      ]
     },
     "metadata": {
      "needs_background": "light"
     },
     "output_type": "display_data"
    }
   ],
   "source": [
    "plt.figure()\n",
    "plt.plot(np.arange(len(loss_hist_clfy)), loss_hist_clfy)"
   ]
  },
  {
   "cell_type": "code",
   "execution_count": 129,
   "metadata": {
    "colab": {
     "base_uri": "https://localhost:8080/",
     "height": 283
    },
    "colab_type": "code",
    "id": "CaA2QY4PG1NY",
    "outputId": "a8eba5e1-88c5-4a0b-a227-cf9eead63353"
   },
   "outputs": [
    {
     "data": {
      "text/plain": [
       "[<matplotlib.lines.Line2D at 0x7fea5a7ebd90>]"
      ]
     },
     "execution_count": 129,
     "metadata": {},
     "output_type": "execute_result"
    },
    {
     "data": {
      "image/png": "[encoded data removed]",
      "text/plain": [
       "<Figure size 432x288 with 1 Axes>"
      ]
     },
     "metadata": {
      "needs_background": "light"
     },
     "output_type": "display_data"
    }
   ],
   "source": [
    "plt.figure()\n",
    "plt.plot(np.arange(len(acc_hist_clfy)), acc_hist_clfy)"
   ]
  },
  {
   "cell_type": "markdown",
   "metadata": {
    "colab_type": "text",
    "id": "oxoPyxGy9gj9"
   },
   "source": [
    "# Validation"
   ]
  },
  {
   "cell_type": "code",
   "execution_count": 68,
   "metadata": {
    "colab": {},
    "colab_type": "code",
    "id": "1pd1VB-HEgJ8"
   },
   "outputs": [],
   "source": [
    "def validate(cpc_model, classifier, data_loader):\n",
    "    cpc_model.eval()\n",
    "    classifier.eval()\n",
    "    total_loss = 0\n",
    "    total_acc  = 0\n",
    "    loss_fn = nn.CrossEntropyLoss()\n",
    "\n",
    "    with torch.no_grad():\n",
    "        for batch_idx, (x, y) in enumerate(data_loader):\n",
    "            x = x.float().unsqueeze(1).to(DEVICE) # add channel dimension\n",
    "            y = y.to(DEVICE)\n",
    "            output, hidden = cpc_model.predict(x)\n",
    "            x = output.contiguous().view((-1,256))\n",
    "            y = y.view((-1,))\n",
    "            output = classifier.forward(x)\n",
    "            total_loss += loss_fn(output, y).item()\n",
    "            pred = output.max(1, keepdim=True)[1]\n",
    "            total_acc += pred.eq(y.view_as(pred)).sum().item()\n",
    "\n",
    "    total_loss /= len(data_loader.dataset)\n",
    "    total_acc /= 1. * len(data_loader.dataset)\n",
    "\n",
    "    print('Validation: loss: {:.4f}\\tAccuracy: {:.4f}\\n'.format(total_loss, total_acc))"
   ]
  },
  {
   "cell_type": "code",
   "execution_count": 130,
   "metadata": {
    "colab": {
     "base_uri": "https://localhost:8080/",
     "height": 54
    },
    "colab_type": "code",
    "id": "rpvom7bW-c_N",
    "outputId": "d88e3b3d-b130-4aa0-a2d1-c2e048f919e0"
   },
   "outputs": [
    {
     "name": "stdout",
     "output_type": "stream",
     "text": [
      "Validation: loss: 0.0021\tAccuracy: 0.9783\n",
      "\n"
     ]
    }
   ],
   "source": [
    "validate(model, classifier, test_loader)"
   ]
  },
  {
   "cell_type": "markdown",
   "metadata": {
    "colab_type": "text",
    "id": "uREVuvgQ_tdH"
   },
   "source": [
    "# Loading & Saving"
   ]
  },
  {
   "cell_type": "code",
   "execution_count": 108,
   "metadata": {
    "colab": {},
    "colab_type": "code",
    "id": "2afb_FqP_v-Q"
   },
   "outputs": [],
   "source": [
    "#import json\n",
    "#drive.mount('/content/drive')"
   ]
  },
  {
   "cell_type": "code",
   "execution_count": 110,
   "metadata": {
    "colab": {},
    "colab_type": "code",
    "id": "0WIr4n8Fh1rb"
   },
   "outputs": [],
   "source": [
    "#CHECKPOINT_PATH = '/content/drive/My Drive/ma/cpc_checkpoint_fn.pt'\n",
    "CHECKPOINT_PATH = './cpc_checkpoint.pt'"
   ]
  },
  {
   "cell_type": "markdown",
   "metadata": {
    "colab_type": "text",
    "id": "IZ4tM-V90sjT"
   },
   "source": [
    "## Saving"
   ]
  },
  {
   "cell_type": "markdown",
   "metadata": {
    "colab_type": "text",
    "id": "G6RDvqX9psTq"
   },
   "source": [
    "save weights, optimizer & metrics"
   ]
  },
  {
   "cell_type": "code",
   "execution_count": 114,
   "metadata": {
    "colab": {
     "base_uri": "https://localhost:8080/",
     "height": 35
    },
    "colab_type": "code",
    "id": "IgZa9hae_Pkc",
    "outputId": "45e321a9-8b3e-4c57-f431-acb29a760598"
   },
   "outputs": [
    {
     "name": "stdout",
     "output_type": "stream",
     "text": [
      "\n"
     ]
    }
   ],
   "source": [
    "# in case there are some tensors map everything to plain numbers\n",
    "acc_cpc = list(map(lambda x: x.item() if isinstance(x, torch.Tensor) else x, acc_cpc))\n",
    "loss_cpc = list(map(lambda x: x.item() if isinstance(x, torch.Tensor) else x, loss_cpc))\n",
    "\n",
    "model.cpu() # move to CPU for saving\n",
    "cpc_checkpoint = {\n",
    "    'params': model.state_dict(),\n",
    "    'optimizer': optimizer.state_dict(),\n",
    "    'loss': loss_cpc,\n",
    "    'acc': acc_cpc\n",
    "}\n",
    "torch.save(cpc_checkpoint, CHECKPOINT_PATH)\n",
    "\n",
    "model.to(DEVICE) # move back to target device\n",
    "print()"
   ]
  },
  {
   "cell_type": "markdown",
   "metadata": {
    "colab_type": "text",
    "id": "-fNV6_OR01jn"
   },
   "source": [
    "## Loading"
   ]
  },
  {
   "cell_type": "code",
   "execution_count": null,
   "metadata": {
    "colab": {
     "base_uri": "https://localhost:8080/",
     "height": 35
    },
    "colab_type": "code",
    "id": "faV4JRwboU5h",
    "outputId": "b2f657dd-74b4-4cc5-9138-6f5d4e40c9da"
   },
   "outputs": [
    {
     "name": "stdout",
     "output_type": "stream",
     "text": [
      "\n"
     ]
    }
   ],
   "source": [
    "cpc_checkpoint = torch.load(CHECKPOINT_PATH)\n",
    "\n",
    "#model = CPC(N_STEPS, NUM_SPEAKERS)\n",
    "model.load_state_dict(cpc_checkpoint['params'])\n",
    "model.to(DEVICE)\n",
    "\n",
    "optimizer.load_state_dict(cpc_checkpoint['optimizer'])\n",
    "loss_cpc = cpc_checkpoint['loss']\n",
    "acc_cpc = cpc_checkpoint['acc']\n",
    "print()"
   ]
  },
  {
   "cell_type": "code",
   "execution_count": 124,
   "metadata": {},
   "outputs": [
    {
     "data": {
      "text/plain": [
       "CPC(\n",
       "  (g_enc): Sequential(\n",
       "    (0): Conv1d(1, 512, kernel_size=(10,), stride=(5,), padding=(3,))\n",
       "    (1): ReLU()\n",
       "    (2): Conv1d(512, 512, kernel_size=(8,), stride=(4,), padding=(2,))\n",
       "    (3): ReLU()\n",
       "    (4): Conv1d(512, 512, kernel_size=(4,), stride=(2,), padding=(1,))\n",
       "    (5): ReLU()\n",
       "    (6): Conv1d(512, 512, kernel_size=(4,), stride=(2,), padding=(1,))\n",
       "    (7): ReLU()\n",
       "    (8): Conv1d(512, 512, kernel_size=(4,), stride=(2,), padding=(1,))\n",
       "  )\n",
       "  (g_ar): GRU(512, 256, batch_first=True)\n",
       "  (step_W): ModuleList(\n",
       "    (0): Linear(in_features=256, out_features=512, bias=True)\n",
       "    (1): Linear(in_features=256, out_features=512, bias=True)\n",
       "    (2): Linear(in_features=256, out_features=512, bias=True)\n",
       "    (3): Linear(in_features=256, out_features=512, bias=True)\n",
       "    (4): Linear(in_features=256, out_features=512, bias=True)\n",
       "    (5): Linear(in_features=256, out_features=512, bias=True)\n",
       "    (6): Linear(in_features=256, out_features=512, bias=True)\n",
       "    (7): Linear(in_features=256, out_features=512, bias=True)\n",
       "    (8): Linear(in_features=256, out_features=512, bias=True)\n",
       "    (9): Linear(in_features=256, out_features=512, bias=True)\n",
       "    (10): Linear(in_features=256, out_features=512, bias=True)\n",
       "    (11): Linear(in_features=256, out_features=512, bias=True)\n",
       "  )\n",
       "  (loss_criterion): CrossEntropyLoss()\n",
       ")"
      ]
     },
     "execution_count": 124,
     "metadata": {},
     "output_type": "execute_result"
    }
   ],
   "source": [
    "## loading for 98params\n",
    "model = torch.load('cpc_98.params')\n",
    "model.to(DEVICE)"
   ]
  },
  {
   "cell_type": "markdown",
   "metadata": {
    "colab_type": "text",
    "id": "WCrnKhP_sedS"
   },
   "source": [
    "# Playground"
   ]
  },
  {
   "cell_type": "markdown",
   "metadata": {
    "colab_type": "text",
    "id": "z5Nolc-Ba_Ox"
   },
   "source": [
    "## Full negative sampling (loop)\n",
    "\n",
    "Draws negative samples from whole $z$ but it's very slow."
   ]
  },
  {
   "cell_type": "code",
   "execution_count": 45,
   "metadata": {
    "colab": {},
    "colab_type": "code",
    "id": "Gd7zcaJ8sgT-"
   },
   "outputs": [],
   "source": [
    "class CPC_full_neg(nn.Module):\n",
    "    def __init__(self, n_steps, n_speaker):\n",
    "        super(CPC_full_neg, self).__init__()\n",
    "        self.n_steps = n_steps\n",
    "        self.n_speaker = n_speaker\n",
    "        self.g_enc = self.encoder()\n",
    "        self.g_ar = self.autoregressive()\n",
    "        self.step_W = nn.ModuleList([nn.Linear(256, 512) for i in range(n_steps)])\n",
    "        self.loss_criterion = nn.CrossEntropyLoss()\n",
    "        # for a batch of 8 we need 8x8 targets with ones on the diagonal\n",
    "        # it's always the same target, we can reuse it\n",
    "        #self.cpc_target = torch.diag(torch.ones(BATCH_SIZE)).to(DEVICE)\n",
    "        #self.cpc_target = torch.arange(0, BATCH_SIZE).long().to(DEVICE) # for CE/NLL\n",
    "\n",
    "    def encoder(self):\n",
    "        return nn.Sequential(\n",
    "            # TODO: add batch norms?\n",
    "            # padding not mentioned but w\\o we get 126 instead of 128\n",
    "            nn.Conv1d(1, 512, 10, 5, 3),\n",
    "            nn.ReLU(),\n",
    "            nn.Conv1d(512, 512, 8, 4, 2),\n",
    "            nn.ReLU(),\n",
    "            nn.Conv1d(512, 512, 4, 2, 1),\n",
    "            nn.ReLU(),\n",
    "            nn.Conv1d(512, 512, 4, 2, 1),\n",
    "            nn.ReLU(),\n",
    "            nn.Conv1d(512, 512, 4, 2, 1),\n",
    "            nn.ReLU(),\n",
    "        )\n",
    "        \n",
    "    def autoregressive(self):\n",
    "        return nn.GRU(512, 256, batch_first=True)\n",
    "\n",
    "    def predict(self, x, hidden=None):\n",
    "        '''Return c_t for the whole given x.'''\n",
    "        with torch.no_grad():\n",
    "            if hidden == None:\n",
    "                hidden = self.empty_hidden()\n",
    "            z = self.g_enc(x)\n",
    "            z = z.permute(0, 2, 1)\n",
    "            pred, hidden = self.g_ar(z, hidden)\n",
    "            return pred[:,-1,:], hidden\n",
    "\n",
    "    def forward(self, x, gar_hidden):\n",
    "        # put through g_enc\n",
    "        z = self.g_enc(x)\n",
    "        #print(z.shape) # 8,512,128\n",
    "\n",
    "        # sample a subsequence of n steps, 1/160 is the downsampling from the encoder\n",
    "        # but we need at least one bit to feed into the GRU, so we pick from 1 to seqlen - n_steps\n",
    "        subsample_idx = torch.randint(1, int(AUDIO_WINDOW / 160) - N_STEPS, size=(1,)) # 1-116\n",
    "        # we can't pick a different index for each sample of the batch or we cannot process them as a batch\n",
    "        # for the pieces would have different lengths --- or we would have to pad them to the same length again\n",
    "        # our data loader shuffles so this should not be too much of a bummer\n",
    "        \n",
    "        # put everything before our pick through g_ar, collect c_t        \n",
    "        # g_ar expects shape(batch, seq_len, input_size), h_0 of shape (num_layers * num_directions, batch, hidden_size)\n",
    "        # https://pytorch.org/docs/master/generated/torch.nn.GRU.html#torch.nn.GRU\n",
    "        # https://jdhao.github.io/2019/07/10/pytorch_view_reshape_transpose_permute/\n",
    "        z = z.permute(0, 2, 1)\n",
    "        c_tx, gar_hidden = self.g_ar(z[:,:subsample_idx,:], gar_hidden)\n",
    "        c_t = c_tx[:,-1,:].squeeze() # GRU outputs a c for every step - we want the last\n",
    "        #print(c_tx.shape) # e.g. 8*112*256\n",
    "\n",
    "        # for n steps, put through W_k for corresponding step to get predictions\n",
    "        pred = [self.step_W[step](c_t) for step in range(N_STEPS)]\n",
    "        #print(pred[0].shape) # 8*512\n",
    "\n",
    "        # info nce loss\n",
    "        acc = []\n",
    "        info_nce_loss = []\n",
    "\n",
    "        for time_step in range(N_STEPS):\n",
    "            # init target vector\n",
    "            target = torch.zeros((BATCH_SIZE,)).long().to(DEVICE) # eq batch size, one correct index per sample\n",
    "            manual_batch = torch.zeros((BATCH_SIZE, BATCH_SIZE)).to(DEVICE) # N samples, N candidates\n",
    "\n",
    "            # let's do the sampling per sample in the batch\n",
    "            for sample_idx in range(BATCH_SIZE):    \n",
    "                # density of positive, f_k(x_t+k, c_t)\n",
    "                f_k = torch.mm(z[sample_idx,subsample_idx + time_step,:], pred[time_step][sample_idx,:].unsqueeze(dim=1))\n",
    "                # put positive at random index\n",
    "                test_v = torch.zeros((BATCH_SIZE,)).to(DEVICE)\n",
    "                positive_pos = torch.randint(0, BATCH_SIZE, (1,))\n",
    "                test_v[positive_pos] = f_k\n",
    "                target[sample_idx] = positive_pos\n",
    "                # sample from all other z from the batch for the other N-1 slots\n",
    "                for i in range(BATCH_SIZE):\n",
    "                    # skip current sequence\n",
    "                    if i == positive_pos:\n",
    "                        continue\n",
    "                    # get random other sequence\n",
    "                    neg_sample = self.draw_negative_sample(z, sample_idx) # f_k(x_j, c_t)\n",
    "                    test_v[i] = torch.mm(neg_sample, pred[time_step][sample_idx,:].unsqueeze(dim=1))\n",
    "                manual_batch[sample_idx] = test_v\n",
    "\n",
    "            #info_nce_loss.append(self.loss_criterion(F.softmax(manual_batch, dim=1), target))\n",
    "            info_nce_loss.append(self.loss_criterion(manual_batch, target))\n",
    "            accuracy = torch.mean((torch.argmax(manual_batch, dim=1) == target).float())\n",
    "            acc.append(accuracy)\n",
    "        info_nce_loss = torch.stack(info_nce_loss).mean()\n",
    "        \n",
    "        return torch.mean(info_nce_loss), torch.mean(torch.tensor(acc))\n",
    "    \n",
    "    def empty_hidden(self):\n",
    "        return torch.zeros(1, BATCH_SIZE, 256).to(DEVICE)\n",
    "\n",
    "    def draw_negative_sample(self, z, current_seq_idx):\n",
    "        '''Draw a neagtive sample from another sequence's z.'''\n",
    "        neg_speaker_idx = current_seq_idx\n",
    "        while neg_speaker_idx == current_seq_idx:\n",
    "            neg_speaker_idx = torch.randint(0, BATCH_SIZE, (1,))\n",
    "        # could lead to the same negative sample more than once\n",
    "        neg_sample_idx = torch.randint(1, int(AUDIO_WINDOW / 160) - N_STEPS, size=(1,))\n",
    "        return z[neg_speaker_idx,neg_sample_idx,:]"
   ]
  },
  {
   "cell_type": "markdown",
   "metadata": {
    "colab_type": "text",
    "id": "RN2G-OqkbECp"
   },
   "source": [
    "## Full negative sampling (vectorized) v2"
   ]
  },
  {
   "cell_type": "code",
   "execution_count": 46,
   "metadata": {
    "colab": {},
    "colab_type": "code",
    "id": "rcCxUbLiTlwB"
   },
   "outputs": [],
   "source": [
    "class CPC_full_neg_v2(nn.Module):\n",
    "    def __init__(self, n_steps, n_speaker):\n",
    "        super(CPC_full_neg_v2, self).__init__()\n",
    "        self.n_steps = n_steps\n",
    "        self.n_speaker = n_speaker\n",
    "        self.g_enc = self.encoder()\n",
    "        self.g_ar = self.autoregressive()\n",
    "        self.step_W = nn.ModuleList([nn.Linear(256, 512) for i in range(n_steps)])\n",
    "        self.loss_criterion = nn.CrossEntropyLoss()\n",
    "        # for a batch of 8 we need 8x8 targets with ones on the diagonal\n",
    "        # it's always the same target, we can reuse it\n",
    "        #self.cpc_target = torch.diag(torch.ones(BATCH_SIZE)).to(DEVICE)\n",
    "        self.cpc_target = torch.arange(0, BATCH_SIZE).long().to(DEVICE) # for CE/NLL\n",
    "\n",
    "    def encoder(self):\n",
    "        return nn.Sequential(\n",
    "            # TODO: add batch norms?\n",
    "            # padding not mentioned but w\\o we get 126 instead of 128\n",
    "            nn.Conv1d(1, 512, 10, 5, 3),\n",
    "            nn.ReLU(),\n",
    "            nn.Conv1d(512, 512, 8, 4, 2),\n",
    "            nn.ReLU(),\n",
    "            nn.Conv1d(512, 512, 4, 2, 1),\n",
    "            nn.ReLU(),\n",
    "            nn.Conv1d(512, 512, 4, 2, 1),\n",
    "            nn.ReLU(),\n",
    "            nn.Conv1d(512, 512, 4, 2, 1),\n",
    "            nn.ReLU(),\n",
    "        )\n",
    "        \n",
    "    def autoregressive(self):\n",
    "        return nn.GRU(512, 256, batch_first=True)\n",
    "\n",
    "    def predict(self, x, hidden=None):\n",
    "        '''Return c_t for the whole given x.'''\n",
    "        with torch.no_grad():\n",
    "            if hidden == None:\n",
    "                hidden = self.empty_hidden()\n",
    "            z = self.g_enc(x)\n",
    "            z = z.permute(0, 2, 1)\n",
    "            pred, hidden = self.g_ar(z, hidden)\n",
    "            return pred[:,-1,:], hidden\n",
    "\n",
    "    def forward(self, x, gar_hidden):\n",
    "        # put through g_enc\n",
    "        z = self.g_enc(x)\n",
    "        #print(z.shape) # 8,512,128\n",
    "\n",
    "        # sample a subsequence of n steps, 1/160 is the downsampling from the encoder\n",
    "        # but we need at least one bit to feed into the GRU, so we pick from 1 to seqlen - n_steps\n",
    "        subsample_idx = torch.randint(1, int(AUDIO_WINDOW / 160) - N_STEPS, size=(1,)) # 1-116\n",
    "        # we can't pick a different index for each sample of the batch or we cannot process them as a batch\n",
    "        # for the pieces would have different lengths --- or we would have to pad them to the same length again\n",
    "        # our data loader shuffles so this should not be too much of a bummer\n",
    "        \n",
    "        # put everything before our pick through g_ar, collect c_t        \n",
    "        # g_ar expects shape(batch, seq_len, input_size), h_0 of shape (num_layers * num_directions, batch, hidden_size)\n",
    "        # https://pytorch.org/docs/master/generated/torch.nn.GRU.html#torch.nn.GRU\n",
    "        # https://jdhao.github.io/2019/07/10/pytorch_view_reshape_transpose_permute/\n",
    "        z = z.permute(0, 2, 1)\n",
    "        c_tx, gar_hidden = self.g_ar(z[:,:subsample_idx,:], gar_hidden)\n",
    "        c_t = c_tx[:,-1,:].squeeze() # GRU outputs a c for every step - we want the last\n",
    "        #print(c_tx.shape) # e.g. 8*112*256\n",
    "\n",
    "        # for n steps, put through W_k for corresponding step to get predictions\n",
    "        pred = [self.step_W[step](c_t) for step in range(N_STEPS)]\n",
    "        #print(pred[0].shape) # 8*512\n",
    "\n",
    "        # info nce loss\n",
    "        acc = []\n",
    "        info_nce_loss = []\n",
    "        # sample randomly from whole z\n",
    "        #z_dash = torch.gather(z, 1, torch.randint(0, z.shape[1], (BATCH_SIZE, z.shape[1], z.shape[2])).to(DEVICE))\n",
    "        z_randomized = z[:, torch.randint(z.shape[1], (z.shape[1],))] # 8,128,512\n",
    "        for time_step in range(N_STEPS):\n",
    "            # place positives\n",
    "            idx = subsample_idx.item() + time_step\n",
    "            f_k = torch.zeros((BATCH_SIZE,BATCH_SIZE)).to(DEVICE)\n",
    "            for i in range(BATCH_SIZE):\n",
    "                z_r = z_randomized[i,subsample_idx + time_step]\n",
    "                z_r[0][i] = pred[time_step][i]\n",
    "                f_k[i] = torch.mm(\n",
    "                    z_r[i,subsample_idx + time_step,:],\n",
    "                    pred[time_step][i].unsqueeze(1)\n",
    "                )\n",
    "\n",
    "            info_nce_loss.append(self.loss_criterion(f_k, self.cpc_target))\n",
    "            accuracy = torch.mean((torch.argmax(f_k, dim=1) == self.cpc_target).float())\n",
    "            acc.append(accuracy)\n",
    "        info_nce_loss = torch.stack(info_nce_loss).mean()\n",
    "        \n",
    "        return torch.mean(info_nce_loss), torch.mean(torch.tensor(acc))\n",
    "    \n",
    "    def empty_hidden(self):\n",
    "        return torch.zeros(1, BATCH_SIZE, 256).to(DEVICE)\n",
    "\n",
    "    def draw_negative_sample(self, z, current_seq_idx):\n",
    "        '''Draw a neagtive sample from another sequence's z.'''\n",
    "        neg_speaker_idx = current_seq_idx\n",
    "        while neg_speaker_idx == current_seq_idx:\n",
    "            neg_speaker_idx = torch.randint(0, BATCH_SIZE, (1,))\n",
    "        # could lead to the same negative sample more than once\n",
    "        neg_sample_idx = torch.randint(1, int(AUDIO_WINDOW / 160) - N_STEPS, size=(1,))\n",
    "        return z[neg_speaker_idx,neg_sample_idx,:]"
   ]
  },
  {
   "cell_type": "markdown",
   "metadata": {
    "colab_type": "text",
    "id": "QjfkBkB74ORW"
   },
   "source": [
    "## Full neg v1"
   ]
  },
  {
   "cell_type": "code",
   "execution_count": 47,
   "metadata": {
    "colab": {},
    "colab_type": "code",
    "id": "PODODLYxf5KY"
   },
   "outputs": [],
   "source": [
    "class CPC_full_neg_v(nn.Module):\n",
    "    def __init__(self, n_steps, n_speaker):\n",
    "        super(CPC_full_neg_v, self).__init__()\n",
    "        self.n_steps = n_steps\n",
    "        self.n_speaker = n_speaker\n",
    "        self.g_enc = self.encoder()\n",
    "        self.g_ar = self.autoregressive()\n",
    "        self.step_W = nn.ModuleList([nn.Linear(256, 512) for i in range(n_steps)])\n",
    "        self.loss_criterion = nn.CrossEntropyLoss()\n",
    "        # for a batch of 8 we need 8x8 targets with ones on the diagonal\n",
    "        # it's always the same target, we can reuse it\n",
    "        #self.cpc_target = torch.diag(torch.ones(BATCH_SIZE)).to(DEVICE)\n",
    "        self.cpc_target = torch.arange(0, BATCH_SIZE).long().to(DEVICE) # for CE/NLL\n",
    "\n",
    "    def encoder(self):\n",
    "        return nn.Sequential(\n",
    "            # TODO: add batch norms?\n",
    "            # padding not mentioned but w\\o we get 126 instead of 128\n",
    "            nn.Conv1d(1, 512, 10, 5, 3),\n",
    "            nn.ReLU(),\n",
    "            nn.Conv1d(512, 512, 8, 4, 2),\n",
    "            nn.ReLU(),\n",
    "            nn.Conv1d(512, 512, 4, 2, 1),\n",
    "            nn.ReLU(),\n",
    "            nn.Conv1d(512, 512, 4, 2, 1),\n",
    "            nn.ReLU(),\n",
    "            nn.Conv1d(512, 512, 4, 2, 1),\n",
    "            nn.ReLU(),\n",
    "        )\n",
    "        \n",
    "    def autoregressive(self):\n",
    "        return nn.GRU(512, 256, batch_first=True)\n",
    "\n",
    "    def predict(self, x, hidden=None):\n",
    "        '''Return c_t for the whole given x.'''\n",
    "        with torch.no_grad():\n",
    "            if hidden == None:\n",
    "                hidden = self.empty_hidden()\n",
    "            z = self.g_enc(x)\n",
    "            z = z.permute(0, 2, 1)\n",
    "            pred, hidden = self.g_ar(z, hidden)\n",
    "            return pred[:,-1,:], hidden\n",
    "\n",
    "    def forward(self, x, gar_hidden):\n",
    "        # put through g_enc\n",
    "        z = self.g_enc(x)\n",
    "        #print(z.shape) # 8,512,128\n",
    "\n",
    "        # sample a subsequence of n steps, 1/160 is the downsampling from the encoder\n",
    "        # but we need at least one bit to feed into the GRU, so we pick from 1 to seqlen - n_steps\n",
    "        subsample_idx = torch.randint(1, int(AUDIO_WINDOW / 160) - N_STEPS, size=(1,)) # 1-116\n",
    "        # we can't pick a different index for each sample of the batch or we cannot process them as a batch\n",
    "        # for the pieces would have different lengths --- or we would have to pad them to the same length again\n",
    "        # our data loader shuffles so this should not be too much of a bummer\n",
    "        \n",
    "        # put everything before our pick through g_ar, collect c_t        \n",
    "        # g_ar expects shape(batch, seq_len, input_size), h_0 of shape (num_layers * num_directions, batch, hidden_size)\n",
    "        # https://pytorch.org/docs/master/generated/torch.nn.GRU.html#torch.nn.GRU\n",
    "        # https://jdhao.github.io/2019/07/10/pytorch_view_reshape_transpose_permute/\n",
    "        z = z.permute(0, 2, 1)\n",
    "        c_tx, gar_hidden = self.g_ar(z[:,:subsample_idx,:], gar_hidden)\n",
    "        c_t = c_tx[:,-1,:].squeeze() # GRU outputs a c for every step - we want the last\n",
    "        #print(c_tx.shape) # e.g. 8*112*256\n",
    "\n",
    "        # for n steps, put through W_k for corresponding step to get predictions\n",
    "        pred = [self.step_W[step](c_t) for step in range(N_STEPS)]\n",
    "        #print(pred[0].shape) # 8*512\n",
    "\n",
    "        # info nce loss\n",
    "        acc = []\n",
    "        info_nce_loss = []\n",
    "        for time_step in range(N_STEPS):\n",
    "            negsample_idx = torch.randint(0, subsample_idx[0].item() + time_step, size=(BATCH_SIZE,))\n",
    "            #negsample_idx = torch.randint(0, z.shape[1], size=(BATCH_SIZE,))\n",
    "            z_neg = z[torch.arange(BATCH_SIZE), negsample_idx]\n",
    "            f_k = torch.mm(z[:,subsample_idx + time_step,:].squeeze(), torch.transpose(pred[time_step], 0, 1))\n",
    "            f_k_neg = torch.mm(z_neg.squeeze(), torch.transpose(pred[time_step], 0, 1))\n",
    "            f_k_combined = torch.cat((f_k, f_k_neg), dim=-1)\n",
    "            info_nce_loss.append(self.loss_criterion(f_k_combined, self.cpc_target))\n",
    "            accuracy = torch.mean((torch.argmax(f_k_combined, dim=1) == self.cpc_target).float())\n",
    "            acc.append(accuracy)\n",
    "        info_nce_loss = torch.stack(info_nce_loss).mean()\n",
    "\n",
    "        return torch.mean(info_nce_loss), torch.mean(torch.tensor(acc))\n",
    "    \n",
    "    def empty_hidden(self):\n",
    "        return torch.zeros(1, BATCH_SIZE, 256).to(DEVICE)\n",
    "\n",
    "    def draw_negative_sample(self, z, current_seq_idx):\n",
    "        '''Draw a neagtive sample from another sequence's z.'''\n",
    "        neg_speaker_idx = current_seq_idx\n",
    "        while neg_speaker_idx == current_seq_idx:\n",
    "            neg_speaker_idx = torch.randint(0, BATCH_SIZE, (1,))\n",
    "        # could lead to the same negative sample more than once\n",
    "        neg_sample_idx = torch.randint(1, int(AUDIO_WINDOW / 160) - N_STEPS, size=(1,))\n",
    "        return z[neg_speaker_idx,neg_sample_idx,:]"
   ]
  }
 ],
 "metadata": {
  "accelerator": "GPU",
  "colab": {
   "collapsed_sections": [],
   "name": "CPC Librispeech.ipynb",
   "provenance": [],
   "toc_visible": true
  },
  "kernelspec": {
   "display_name": "Python 3",
   "language": "python",
   "name": "python3"
  },
  "language_info": {
   "codemirror_mode": {
    "name": "ipython",
    "version": 3
   },
   "file_extension": ".py",
   "mimetype": "text/x-python",
   "name": "python",
   "nbconvert_exporter": "python",
   "pygments_lexer": "ipython3",
   "version": "3.7.8"
  },
  "toc-autonumbering": false,
  "toc-showcode": false,
  "toc-showmarkdowntxt": false,
  "toc-showtags": false,
  "widgets": {
   "application/vnd.jupyter.widget-state+json": {
    "0156e8d0482540eca99e27edc2bdb261": {
     "model_module": "@jupyter-widgets/controls",
     "model_name": "ProgressStyleModel",
     "state": {
      "_model_module": "@jupyter-widgets/controls",
      "_model_module_version": "1.5.0",
      "_model_name": "ProgressStyleModel",
      "_view_count": null,
      "_view_module": "@jupyter-widgets/base",
      "_view_module_version": "1.2.0",
      "_view_name": "StyleView",
      "bar_color": null,
      "description_width": "initial"
     }
    },
    "3b80aa0abeba41d7891f8f6597058091": {
     "model_module": "@jupyter-widgets/base",
     "model_name": "LayoutModel",
     "state": {
      "_model_module": "@jupyter-widgets/base",
      "_model_module_version": "1.2.0",
      "_model_name": "LayoutModel",
      "_view_count": null,
      "_view_module": "@jupyter-widgets/base",
      "_view_module_version": "1.2.0",
      "_view_name": "LayoutView",
      "align_content": null,
      "align_items": null,
      "align_self": null,
      "border": null,
      "bottom": null,
      "display": null,
      "flex": null,
      "flex_flow": null,
      "grid_area": null,
      "grid_auto_columns": null,
      "grid_auto_flow": null,
      "grid_auto_rows": null,
      "grid_column": null,
      "grid_gap": null,
      "grid_row": null,
      "grid_template_areas": null,
      "grid_template_columns": null,
      "grid_template_rows": null,
      "height": null,
      "justify_content": null,
      "justify_items": null,
      "left": null,
      "margin": null,
      "max_height": null,
      "max_width": null,
      "min_height": null,
      "min_width": null,
      "object_fit": null,
      "object_position": null,
      "order": null,
      "overflow": null,
      "overflow_x": null,
      "overflow_y": null,
      "padding": null,
      "right": null,
      "top": null,
      "visibility": null,
      "width": null
     }
    },
    "589fa440f5934454b099db6e0aa8c850": {
     "model_module": "@jupyter-widgets/base",
     "model_name": "LayoutModel",
     "state": {
      "_model_module": "@jupyter-widgets/base",
      "_model_module_version": "1.2.0",
      "_model_name": "LayoutModel",
      "_view_count": null,
      "_view_module": "@jupyter-widgets/base",
      "_view_module_version": "1.2.0",
      "_view_name": "LayoutView",
      "align_content": null,
      "align_items": null,
      "align_self": null,
      "border": null,
      "bottom": null,
      "display": null,
      "flex": null,
      "flex_flow": null,
      "grid_area": null,
      "grid_auto_columns": null,
      "grid_auto_flow": null,
      "grid_auto_rows": null,
      "grid_column": null,
      "grid_gap": null,
      "grid_row": null,
      "grid_template_areas": null,
      "grid_template_columns": null,
      "grid_template_rows": null,
      "height": null,
      "justify_content": null,
      "justify_items": null,
      "left": null,
      "margin": null,
      "max_height": null,
      "max_width": null,
      "min_height": null,
      "min_width": null,
      "object_fit": null,
      "object_position": null,
      "order": null,
      "overflow": null,
      "overflow_x": null,
      "overflow_y": null,
      "padding": null,
      "right": null,
      "top": null,
      "visibility": null,
      "width": null
     }
    },
    "86c07288905449cbb1240186b334eef5": {
     "model_module": "@jupyter-widgets/controls",
     "model_name": "FloatProgressModel",
     "state": {
      "_dom_classes": [],
      "_model_module": "@jupyter-widgets/controls",
      "_model_module_version": "1.5.0",
      "_model_name": "FloatProgressModel",
      "_view_count": null,
      "_view_module": "@jupyter-widgets/controls",
      "_view_module_version": "1.5.0",
      "_view_name": "ProgressView",
      "bar_style": "success",
      "description": "100%",
      "description_tooltip": null,
      "layout": "IPY_MODEL_3b80aa0abeba41d7891f8f6597058091",
      "max": 6387309499,
      "min": 0,
      "orientation": "horizontal",
      "style": "IPY_MODEL_0156e8d0482540eca99e27edc2bdb261",
      "value": 6387309499
     }
    },
    "958dfc4dc9314ae9b63f5a40aa1d0abf": {
     "model_module": "@jupyter-widgets/controls",
     "model_name": "DescriptionStyleModel",
     "state": {
      "_model_module": "@jupyter-widgets/controls",
      "_model_module_version": "1.5.0",
      "_model_name": "DescriptionStyleModel",
      "_view_count": null,
      "_view_module": "@jupyter-widgets/base",
      "_view_module_version": "1.2.0",
      "_view_name": "StyleView",
      "description_width": ""
     }
    },
    "b765884f57ee47efb8d5bc1a3b387faa": {
     "model_module": "@jupyter-widgets/controls",
     "model_name": "HTMLModel",
     "state": {
      "_dom_classes": [],
      "_model_module": "@jupyter-widgets/controls",
      "_model_module_version": "1.5.0",
      "_model_name": "HTMLModel",
      "_view_count": null,
      "_view_module": "@jupyter-widgets/controls",
      "_view_module_version": "1.5.0",
      "_view_name": "HTMLView",
      "description": "",
      "description_tooltip": null,
      "layout": "IPY_MODEL_589fa440f5934454b099db6e0aa8c850",
      "placeholder": "​",
      "style": "IPY_MODEL_958dfc4dc9314ae9b63f5a40aa1d0abf",
      "value": " 5.95G/5.95G [05:26&lt;00:00, 19.5MB/s]"
     }
    },
    "cfe9a8d890474b61887f2ecb2997dccd": {
     "model_module": "@jupyter-widgets/base",
     "model_name": "LayoutModel",
     "state": {
      "_model_module": "@jupyter-widgets/base",
      "_model_module_version": "1.2.0",
      "_model_name": "LayoutModel",
      "_view_count": null,
      "_view_module": "@jupyter-widgets/base",
      "_view_module_version": "1.2.0",
      "_view_name": "LayoutView",
      "align_content": null,
      "align_items": null,
      "align_self": null,
      "border": null,
      "bottom": null,
      "display": null,
      "flex": null,
      "flex_flow": null,
      "grid_area": null,
      "grid_auto_columns": null,
      "grid_auto_flow": null,
      "grid_auto_rows": null,
      "grid_column": null,
      "grid_gap": null,
      "grid_row": null,
      "grid_template_areas": null,
      "grid_template_columns": null,
      "grid_template_rows": null,
      "height": null,
      "justify_content": null,
      "justify_items": null,
      "left": null,
      "margin": null,
      "max_height": null,
      "max_width": null,
      "min_height": null,
      "min_width": null,
      "object_fit": null,
      "object_position": null,
      "order": null,
      "overflow": null,
      "overflow_x": null,
      "overflow_y": null,
      "padding": null,
      "right": null,
      "top": null,
      "visibility": null,
      "width": null
     }
    },
    "f7c2e08c2fdd41d1acc7ad877708b5f7": {
     "model_module": "@jupyter-widgets/controls",
     "model_name": "HBoxModel",
     "state": {
      "_dom_classes": [],
      "_model_module": "@jupyter-widgets/controls",
      "_model_module_version": "1.5.0",
      "_model_name": "HBoxModel",
      "_view_count": null,
      "_view_module": "@jupyter-widgets/controls",
      "_view_module_version": "1.5.0",
      "_view_name": "HBoxView",
      "box_style": "",
      "children": [
       "IPY_MODEL_86c07288905449cbb1240186b334eef5",
       "IPY_MODEL_b765884f57ee47efb8d5bc1a3b387faa"
      ],
      "layout": "IPY_MODEL_cfe9a8d890474b61887f2ecb2997dccd"
     }
    }
   }
  }
 },
 "nbformat": 4,
 "nbformat_minor": 4
}
